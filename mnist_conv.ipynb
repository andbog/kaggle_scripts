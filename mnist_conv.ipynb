{
 "cells": [
  {
   "cell_type": "code",
   "execution_count": 1,
   "metadata": {},
   "outputs": [],
   "source": [
    "import pandas as pd\n",
    "import numpy as np\n",
    "%matplotlib inline\n",
    "import matplotlib.pyplot as plt\n",
    "from math import sqrt"
   ]
  },
  {
   "cell_type": "code",
   "execution_count": 2,
   "metadata": {},
   "outputs": [],
   "source": [
    "train = pd.read_csv(\"data/train.csv\")\n",
    "test = pd.read_csv(\"data/test.csv\")"
   ]
  },
  {
   "cell_type": "code",
   "execution_count": 3,
   "metadata": {},
   "outputs": [],
   "source": [
    "ytrain = train[\"label\"].values\n",
    "ytest = train[\"label\"].values"
   ]
  },
  {
   "cell_type": "code",
   "execution_count": 4,
   "metadata": {},
   "outputs": [
    {
     "name": "stdout",
     "output_type": "stream",
     "text": [
      "<class 'pandas.core.frame.DataFrame'>\n",
      "RangeIndex: 42000 entries, 0 to 41999\n",
      "Columns: 785 entries, label to pixel783\n",
      "dtypes: int64(785)\n",
      "memory usage: 251.5 MB\n"
     ]
    }
   ],
   "source": [
    "train.info()"
   ]
  },
  {
   "cell_type": "code",
   "execution_count": 5,
   "metadata": {},
   "outputs": [],
   "source": [
    "Xtrain = train.drop(\"label\",axis=1).values\n",
    "Xtest = test.values"
   ]
  },
  {
   "cell_type": "code",
   "execution_count": 6,
   "metadata": {},
   "outputs": [
    {
     "data": {
      "text/plain": [
       "42000"
      ]
     },
     "execution_count": 6,
     "metadata": {},
     "output_type": "execute_result"
    }
   ],
   "source": [
    "Xtrain.shape[0]"
   ]
  },
  {
   "cell_type": "code",
   "execution_count": 7,
   "metadata": {},
   "outputs": [],
   "source": [
    "Xtrainpic = Xtrain.reshape(Xtrain.shape[0],int(sqrt(Xtrain.shape[1])),int(sqrt(Xtrain.shape[1])))"
   ]
  },
  {
   "cell_type": "code",
   "execution_count": 8,
   "metadata": {},
   "outputs": [],
   "source": [
    "negativeMask=np.ones(784).reshape(28,28)*255"
   ]
  },
  {
   "cell_type": "code",
   "execution_count": 9,
   "metadata": {},
   "outputs": [
    {
     "data": {
      "text/plain": [
       "<matplotlib.image.AxesImage at 0x7f47e42a77f0>"
      ]
     },
     "execution_count": 9,
     "metadata": {},
     "output_type": "execute_result"
    },
    {
     "data": {
      "image/png": "[encoded data removed]",
      "text/plain": [
       "<matplotlib.figure.Figure at 0x7f47e4159a20>"
      ]
     },
     "metadata": {},
     "output_type": "display_data"
    }
   ],
   "source": [
    "plt.imshow(negativeMask-Xtrainpic[34], cmap='gray')"
   ]
  },
  {
   "cell_type": "code",
   "execution_count": 10,
   "metadata": {},
   "outputs": [
    {
     "data": {
      "text/plain": [
       "2"
      ]
     },
     "execution_count": 10,
     "metadata": {},
     "output_type": "execute_result"
    }
   ],
   "source": [
    "ytrain[34]"
   ]
  },
  {
   "cell_type": "code",
   "execution_count": 11,
   "metadata": {},
   "outputs": [
    {
     "name": "stderr",
     "output_type": "stream",
     "text": [
      "Using TensorFlow backend.\n"
     ]
    }
   ],
   "source": [
    "from keras.utils.np_utils import to_categorical"
   ]
  },
  {
   "cell_type": "code",
   "execution_count": 12,
   "metadata": {},
   "outputs": [],
   "source": [
    "y_train_cat = to_categorical(ytrain)\n",
    "y_test_cat = to_categorical(ytest)"
   ]
  },
  {
   "cell_type": "code",
   "execution_count": 13,
   "metadata": {},
   "outputs": [
    {
     "data": {
      "text/plain": [
       "array([ 0.,  0.,  1.,  0.,  0.,  0.,  0.,  0.,  0.,  0.])"
      ]
     },
     "execution_count": 13,
     "metadata": {},
     "output_type": "execute_result"
    }
   ],
   "source": [
    "y_train_cat[34]"
   ]
  },
  {
   "cell_type": "code",
   "execution_count": 14,
   "metadata": {},
   "outputs": [],
   "source": [
    "from keras.models import Sequential\n",
    "from keras.layers import Dense\n",
    "import keras.backend as K\n",
    "\n",
    "K.clear_session()\n",
    "\n",
    "model = Sequential()\n",
    "model.add(Dense(512, input_dim=28*28, activation='relu'))\n",
    "model.add(Dense(256, activation='relu'))\n",
    "model.add(Dense(128, activation='relu'))\n",
    "model.add(Dense(32, activation='relu'))\n",
    "model.add(Dense(10, activation='softmax'))\n",
    "model.compile(loss='categorical_crossentropy',\n",
    "              optimizer='rmsprop',\n",
    "              metrics=['accuracy'])"
   ]
  },
  {
   "cell_type": "code",
   "execution_count": 78,
   "metadata": {},
   "outputs": [
    {
     "name": "stdout",
     "output_type": "stream",
     "text": [
      "Train on 33600 samples, validate on 8400 samples\n",
      "Epoch 1/10\n",
      "33600/33600 [==============================] - 4s - loss: 14.5014 - acc: 0.1001 - val_loss: 14.5811 - val_acc: 0.0954\n",
      "Epoch 2/10\n",
      "33600/33600 [==============================] - 4s - loss: 14.4986 - acc: 0.1005 - val_loss: 14.5811 - val_acc: 0.0954\n",
      "Epoch 3/10\n",
      "33600/33600 [==============================] - 4s - loss: 14.4986 - acc: 0.1005 - val_loss: 14.5811 - val_acc: 0.0954\n",
      "Epoch 4/10\n",
      "33600/33600 [==============================] - 4s - loss: 14.4986 - acc: 0.1005 - val_loss: 14.5811 - val_acc: 0.0954\n",
      "Epoch 5/10\n",
      "33600/33600 [==============================] - 4s - loss: 14.4986 - acc: 0.1005 - val_loss: 14.5811 - val_acc: 0.0954\n",
      "Epoch 6/10\n",
      "33600/33600 [==============================] - 4s - loss: 14.4986 - acc: 0.1005 - val_loss: 14.5811 - val_acc: 0.0954\n",
      "Epoch 7/10\n",
      "33600/33600 [==============================] - 4s - loss: 14.4986 - acc: 0.1005 - val_loss: 14.5811 - val_acc: 0.0954\n",
      "Epoch 8/10\n",
      "33600/33600 [==============================] - 4s - loss: 14.4986 - acc: 0.1005 - val_loss: 14.5811 - val_acc: 0.0954\n",
      "Epoch 9/10\n",
      "33600/33600 [==============================] - 4s - loss: 14.4986 - acc: 0.1005 - val_loss: 14.5811 - val_acc: 0.0954\n",
      "Epoch 10/10\n",
      "33600/33600 [==============================] - 4s - loss: 14.4986 - acc: 0.1005 - val_loss: 14.5811 - val_acc: 0.0954\n"
     ]
    }
   ],
   "source": [
    "h = model.fit(Xtrain, y_train_cat, batch_size=128, epochs=10, verbose=1, validation_split=0.2)"
   ]
  },
  {
   "cell_type": "code",
   "execution_count": 15,
   "metadata": {},
   "outputs": [],
   "source": [
    "from keras.layers import Flatten, Activation,MaxPool2D, AvgPool2D,Conv2D,Conv1D"
   ]
  },
  {
   "cell_type": "code",
   "execution_count": 16,
   "metadata": {},
   "outputs": [],
   "source": [
    "Xtrain = Xtrain.reshape(-1, 28, 28, 1)\n",
    "Xtest = Xtest.reshape(-1, 28, 28, 1)"
   ]
  },
  {
   "cell_type": "code",
   "execution_count": 160,
   "metadata": {},
   "outputs": [
    {
     "name": "stdout",
     "output_type": "stream",
     "text": [
      "_________________________________________________________________\n",
      "Layer (type)                 Output Shape              Param #   \n",
      "=================================================================\n",
      "conv2d_1 (Conv2D)            (None, 21, 21, 64)        4160      \n",
      "_________________________________________________________________\n",
      "average_pooling2d_1 (Average (None, 5, 5, 64)          0         \n",
      "_________________________________________________________________\n",
      "conv2d_2 (Conv2D)            (None, 3, 3, 32)          18464     \n",
      "_________________________________________________________________\n",
      "max_pooling2d_1 (MaxPooling2 (None, 1, 1, 32)          0         \n",
      "_________________________________________________________________\n",
      "activation_1 (Activation)    (None, 1, 1, 32)          0         \n",
      "_________________________________________________________________\n",
      "flatten_1 (Flatten)          (None, 32)                0         \n",
      "_________________________________________________________________\n",
      "dense_1 (Dense)              (None, 128)               4224      \n",
      "_________________________________________________________________\n",
      "dense_2 (Dense)              (None, 10)                1290      \n",
      "=================================================================\n",
      "Total params: 28,138\n",
      "Trainable params: 28,138\n",
      "Non-trainable params: 0\n",
      "_________________________________________________________________\n"
     ]
    }
   ],
   "source": [
    "K.clear_session()\n",
    "\n",
    "model = Sequential()\n",
    "\n",
    "model.add(Conv2D(64, (8, 8), input_shape=(28, 28, 1)))\n",
    "model.add(AvgPool2D(pool_size=(4, 4)))\n",
    "model.add(Conv2D(32, (3, 3)))\n",
    "model.add(MaxPool2D(pool_size=(2, 2)))\n",
    "model.add(Activation('relu'))\n",
    "\n",
    "model.add(Flatten())\n",
    "#model.add(Conv1D(32, 5))\n",
    "\n",
    "model.add(Dense(128, activation='relu'))\n",
    "\n",
    "model.add(Dense(10, activation='softmax'))\n",
    "\n",
    "model.compile(loss='categorical_crossentropy',\n",
    "              optimizer='adam',\n",
    "              metrics=['accuracy'])\n",
    "model.summary()"
   ]
  },
  {
   "cell_type": "code",
   "execution_count": 161,
   "metadata": {},
   "outputs": [
    {
     "name": "stdout",
     "output_type": "stream",
     "text": [
      "Train on 33600 samples, validate on 8400 samples\n",
      "Epoch 1/20\n",
      "33600/33600 [==============================] - 21s - loss: 1.1306 - acc: 0.6816 - val_loss: 0.5798 - val_acc: 0.8168\n",
      "Epoch 2/20\n",
      "33600/33600 [==============================] - 22s - loss: 0.5396 - acc: 0.8378 - val_loss: 0.4199 - val_acc: 0.8825\n",
      "Epoch 3/20\n",
      "33600/33600 [==============================] - 21s - loss: 0.4536 - acc: 0.8663 - val_loss: 0.4422 - val_acc: 0.8800\n",
      "Epoch 4/20\n",
      "33600/33600 [==============================] - 22s - loss: 0.3952 - acc: 0.8825 - val_loss: 0.3624 - val_acc: 0.8919\n",
      "Epoch 5/20\n",
      "33600/33600 [==============================] - 21s - loss: 0.3523 - acc: 0.8972 - val_loss: 0.3130 - val_acc: 0.9083\n",
      "Epoch 6/20\n",
      "33600/33600 [==============================] - 21s - loss: 0.3231 - acc: 0.9062 - val_loss: 0.2845 - val_acc: 0.9077\n",
      "Epoch 7/20\n",
      "33600/33600 [==============================] - 23s - loss: 0.3057 - acc: 0.9107 - val_loss: 0.3004 - val_acc: 0.9098\n",
      "Epoch 8/20\n",
      "33600/33600 [==============================] - 28s - loss: 0.2984 - acc: 0.9117 - val_loss: 0.3816 - val_acc: 0.8990\n",
      "Epoch 9/20\n",
      "33600/33600 [==============================] - 28s - loss: 0.2769 - acc: 0.9176 - val_loss: 0.2977 - val_acc: 0.9179\n",
      "Epoch 10/20\n",
      "33600/33600 [==============================] - 28s - loss: 0.2573 - acc: 0.9231 - val_loss: 0.3016 - val_acc: 0.9150\n",
      "Epoch 11/20\n",
      "33600/33600 [==============================] - 28s - loss: 0.2490 - acc: 0.9257 - val_loss: 0.2892 - val_acc: 0.9135\n",
      "Epoch 12/20\n",
      "33600/33600 [==============================] - 28s - loss: 0.2429 - acc: 0.9265 - val_loss: 0.2142 - val_acc: 0.9354\n",
      "Epoch 13/20\n",
      "33600/33600 [==============================] - 30s - loss: 0.2332 - acc: 0.9312 - val_loss: 0.2411 - val_acc: 0.9265\n",
      "Epoch 14/20\n",
      "33600/33600 [==============================] - 29s - loss: 0.2214 - acc: 0.9330 - val_loss: 0.2227 - val_acc: 0.9356\n",
      "Epoch 15/20\n",
      "33600/33600 [==============================] - 29s - loss: 0.2122 - acc: 0.9361 - val_loss: 0.2365 - val_acc: 0.9364\n",
      "Epoch 16/20\n",
      "33600/33600 [==============================] - 29s - loss: 0.2057 - acc: 0.9374 - val_loss: 0.1971 - val_acc: 0.9425\n",
      "Epoch 17/20\n",
      "33600/33600 [==============================] - 29s - loss: 0.2085 - acc: 0.9389 - val_loss: 0.2138 - val_acc: 0.9393\n",
      "Epoch 18/20\n",
      "33600/33600 [==============================] - 29s - loss: 0.1997 - acc: 0.9401 - val_loss: 0.1881 - val_acc: 0.9452\n",
      "Epoch 19/20\n",
      "33600/33600 [==============================] - 29s - loss: 0.1957 - acc: 0.9420 - val_loss: 0.2047 - val_acc: 0.9389\n",
      "Epoch 20/20\n",
      "33600/33600 [==============================] - 30s - loss: 0.1894 - acc: 0.9430 - val_loss: 0.1848 - val_acc: 0.9475\n"
     ]
    },
    {
     "data": {
      "text/plain": [
       "<keras.callbacks.History at 0x7f4767a2e5c0>"
      ]
     },
     "execution_count": 161,
     "metadata": {},
     "output_type": "execute_result"
    }
   ],
   "source": [
    "model.fit(Xtrain, y_train_cat, batch_size=32,\n",
    "          epochs=20, verbose=1, validation_split=0.2)"
   ]
  },
  {
   "cell_type": "code",
   "execution_count": 238,
   "metadata": {},
   "outputs": [],
   "source": [
    "ytest = model.predict(Xtest)"
   ]
  },
  {
   "cell_type": "code",
   "execution_count": 239,
   "metadata": {},
   "outputs": [],
   "source": [
    "pred=list(map(lambda x: list(x).index(max(x)),ytest))"
   ]
  },
  {
   "cell_type": "code",
   "execution_count": 96,
   "metadata": {},
   "outputs": [
    {
     "data": {
      "text/plain": [
       "28000"
      ]
     },
     "execution_count": 96,
     "metadata": {},
     "output_type": "execute_result"
    }
   ],
   "source": [
    "len(pred)"
   ]
  },
  {
   "cell_type": "code",
   "execution_count": 97,
   "metadata": {},
   "outputs": [],
   "source": [
    "idx = range(1,28001)"
   ]
  },
  {
   "cell_type": "code",
   "execution_count": 98,
   "metadata": {},
   "outputs": [
    {
     "data": {
      "text/plain": [
       "28000"
      ]
     },
     "execution_count": 98,
     "metadata": {},
     "output_type": "execute_result"
    }
   ],
   "source": [
    "len(idx)"
   ]
  },
  {
   "cell_type": "code",
   "execution_count": 240,
   "metadata": {},
   "outputs": [],
   "source": [
    "subm = pd.DataFrame(data={'ImageId':idx,'Label':pred})"
   ]
  },
  {
   "cell_type": "code",
   "execution_count": 241,
   "metadata": {},
   "outputs": [],
   "source": [
    "subm.to_csv(\"subm.csv\")"
   ]
  },
  {
   "cell_type": "markdown",
   "metadata": {},
   "source": [
    "What gets misclassified"
   ]
  },
  {
   "cell_type": "code",
   "execution_count": 171,
   "metadata": {},
   "outputs": [],
   "source": [
    "ypred = model.predict(Xtrain)\n",
    "predTrain=list(map(lambda x: list(x).index(max(x)),ypred))"
   ]
  },
  {
   "cell_type": "code",
   "execution_count": 172,
   "metadata": {},
   "outputs": [],
   "source": [
    "cDF = pd.DataFrame({'original':ytrain,'predicted':predTrain})"
   ]
  },
  {
   "cell_type": "code",
   "execution_count": 178,
   "metadata": {},
   "outputs": [],
   "source": [
    "cDF2=cDF[cDF['original']!=cDF['predicted']]"
   ]
  },
  {
   "cell_type": "code",
   "execution_count": 179,
   "metadata": {},
   "outputs": [
    {
     "data": {
      "text/html": [
       "<div>\n",
       "<table border=\"1\" class=\"dataframe\">\n",
       "  <thead>\n",
       "    <tr style=\"text-align: right;\">\n",
       "      <th>predicted</th>\n",
       "      <th>0</th>\n",
       "      <th>1</th>\n",
       "      <th>2</th>\n",
       "      <th>3</th>\n",
       "      <th>4</th>\n",
       "      <th>5</th>\n",
       "      <th>6</th>\n",
       "      <th>7</th>\n",
       "      <th>8</th>\n",
       "      <th>9</th>\n",
       "      <th>All</th>\n",
       "    </tr>\n",
       "    <tr>\n",
       "      <th>original</th>\n",
       "      <th></th>\n",
       "      <th></th>\n",
       "      <th></th>\n",
       "      <th></th>\n",
       "      <th></th>\n",
       "      <th></th>\n",
       "      <th></th>\n",
       "      <th></th>\n",
       "      <th></th>\n",
       "      <th></th>\n",
       "      <th></th>\n",
       "    </tr>\n",
       "  </thead>\n",
       "  <tbody>\n",
       "    <tr>\n",
       "      <th>0</th>\n",
       "      <td>0</td>\n",
       "      <td>2</td>\n",
       "      <td>2</td>\n",
       "      <td>0</td>\n",
       "      <td>5</td>\n",
       "      <td>7</td>\n",
       "      <td>37</td>\n",
       "      <td>1</td>\n",
       "      <td>26</td>\n",
       "      <td>10</td>\n",
       "      <td>90</td>\n",
       "    </tr>\n",
       "    <tr>\n",
       "      <th>1</th>\n",
       "      <td>1</td>\n",
       "      <td>0</td>\n",
       "      <td>19</td>\n",
       "      <td>19</td>\n",
       "      <td>9</td>\n",
       "      <td>30</td>\n",
       "      <td>6</td>\n",
       "      <td>9</td>\n",
       "      <td>7</td>\n",
       "      <td>11</td>\n",
       "      <td>111</td>\n",
       "    </tr>\n",
       "    <tr>\n",
       "      <th>2</th>\n",
       "      <td>10</td>\n",
       "      <td>12</td>\n",
       "      <td>0</td>\n",
       "      <td>88</td>\n",
       "      <td>33</td>\n",
       "      <td>14</td>\n",
       "      <td>20</td>\n",
       "      <td>81</td>\n",
       "      <td>76</td>\n",
       "      <td>9</td>\n",
       "      <td>343</td>\n",
       "    </tr>\n",
       "    <tr>\n",
       "      <th>3</th>\n",
       "      <td>2</td>\n",
       "      <td>4</td>\n",
       "      <td>53</td>\n",
       "      <td>0</td>\n",
       "      <td>4</td>\n",
       "      <td>149</td>\n",
       "      <td>0</td>\n",
       "      <td>42</td>\n",
       "      <td>51</td>\n",
       "      <td>72</td>\n",
       "      <td>377</td>\n",
       "    </tr>\n",
       "    <tr>\n",
       "      <th>4</th>\n",
       "      <td>6</td>\n",
       "      <td>8</td>\n",
       "      <td>3</td>\n",
       "      <td>0</td>\n",
       "      <td>0</td>\n",
       "      <td>3</td>\n",
       "      <td>61</td>\n",
       "      <td>3</td>\n",
       "      <td>7</td>\n",
       "      <td>107</td>\n",
       "      <td>198</td>\n",
       "    </tr>\n",
       "    <tr>\n",
       "      <th>5</th>\n",
       "      <td>12</td>\n",
       "      <td>1</td>\n",
       "      <td>4</td>\n",
       "      <td>28</td>\n",
       "      <td>11</td>\n",
       "      <td>0</td>\n",
       "      <td>26</td>\n",
       "      <td>3</td>\n",
       "      <td>30</td>\n",
       "      <td>52</td>\n",
       "      <td>167</td>\n",
       "    </tr>\n",
       "    <tr>\n",
       "      <th>6</th>\n",
       "      <td>12</td>\n",
       "      <td>1</td>\n",
       "      <td>1</td>\n",
       "      <td>0</td>\n",
       "      <td>40</td>\n",
       "      <td>22</td>\n",
       "      <td>0</td>\n",
       "      <td>0</td>\n",
       "      <td>12</td>\n",
       "      <td>0</td>\n",
       "      <td>88</td>\n",
       "    </tr>\n",
       "    <tr>\n",
       "      <th>7</th>\n",
       "      <td>3</td>\n",
       "      <td>3</td>\n",
       "      <td>35</td>\n",
       "      <td>20</td>\n",
       "      <td>18</td>\n",
       "      <td>1</td>\n",
       "      <td>0</td>\n",
       "      <td>0</td>\n",
       "      <td>10</td>\n",
       "      <td>158</td>\n",
       "      <td>248</td>\n",
       "    </tr>\n",
       "    <tr>\n",
       "      <th>8</th>\n",
       "      <td>10</td>\n",
       "      <td>33</td>\n",
       "      <td>10</td>\n",
       "      <td>16</td>\n",
       "      <td>17</td>\n",
       "      <td>29</td>\n",
       "      <td>27</td>\n",
       "      <td>7</td>\n",
       "      <td>0</td>\n",
       "      <td>84</td>\n",
       "      <td>233</td>\n",
       "    </tr>\n",
       "    <tr>\n",
       "      <th>9</th>\n",
       "      <td>16</td>\n",
       "      <td>8</td>\n",
       "      <td>2</td>\n",
       "      <td>21</td>\n",
       "      <td>97</td>\n",
       "      <td>22</td>\n",
       "      <td>0</td>\n",
       "      <td>17</td>\n",
       "      <td>33</td>\n",
       "      <td>0</td>\n",
       "      <td>216</td>\n",
       "    </tr>\n",
       "    <tr>\n",
       "      <th>All</th>\n",
       "      <td>72</td>\n",
       "      <td>72</td>\n",
       "      <td>129</td>\n",
       "      <td>192</td>\n",
       "      <td>234</td>\n",
       "      <td>277</td>\n",
       "      <td>177</td>\n",
       "      <td>163</td>\n",
       "      <td>252</td>\n",
       "      <td>503</td>\n",
       "      <td>2071</td>\n",
       "    </tr>\n",
       "  </tbody>\n",
       "</table>\n",
       "</div>"
      ],
      "text/plain": [
       "predicted   0   1    2    3    4    5    6    7    8    9   All\n",
       "original                                                       \n",
       "0           0   2    2    0    5    7   37    1   26   10    90\n",
       "1           1   0   19   19    9   30    6    9    7   11   111\n",
       "2          10  12    0   88   33   14   20   81   76    9   343\n",
       "3           2   4   53    0    4  149    0   42   51   72   377\n",
       "4           6   8    3    0    0    3   61    3    7  107   198\n",
       "5          12   1    4   28   11    0   26    3   30   52   167\n",
       "6          12   1    1    0   40   22    0    0   12    0    88\n",
       "7           3   3   35   20   18    1    0    0   10  158   248\n",
       "8          10  33   10   16   17   29   27    7    0   84   233\n",
       "9          16   8    2   21   97   22    0   17   33    0   216\n",
       "All        72  72  129  192  234  277  177  163  252  503  2071"
      ]
     },
     "execution_count": 179,
     "metadata": {},
     "output_type": "execute_result"
    }
   ],
   "source": [
    "pd.crosstab(cDF2['original'],cDF2['predicted'],margins = True)"
   ]
  },
  {
   "cell_type": "code",
   "execution_count": 181,
   "metadata": {},
   "outputs": [
    {
     "data": {
      "text/html": [
       "<div>\n",
       "<table border=\"1\" class=\"dataframe\">\n",
       "  <thead>\n",
       "    <tr style=\"text-align: right;\">\n",
       "      <th>predicted</th>\n",
       "      <th>0</th>\n",
       "      <th>1</th>\n",
       "      <th>2</th>\n",
       "      <th>3</th>\n",
       "      <th>4</th>\n",
       "      <th>5</th>\n",
       "      <th>6</th>\n",
       "      <th>7</th>\n",
       "      <th>8</th>\n",
       "      <th>9</th>\n",
       "      <th>All</th>\n",
       "    </tr>\n",
       "    <tr>\n",
       "      <th>original</th>\n",
       "      <th></th>\n",
       "      <th></th>\n",
       "      <th></th>\n",
       "      <th></th>\n",
       "      <th></th>\n",
       "      <th></th>\n",
       "      <th></th>\n",
       "      <th></th>\n",
       "      <th></th>\n",
       "      <th></th>\n",
       "      <th></th>\n",
       "    </tr>\n",
       "  </thead>\n",
       "  <tbody>\n",
       "    <tr>\n",
       "      <th>0</th>\n",
       "      <td>4042</td>\n",
       "      <td>2</td>\n",
       "      <td>2</td>\n",
       "      <td>0</td>\n",
       "      <td>5</td>\n",
       "      <td>7</td>\n",
       "      <td>37</td>\n",
       "      <td>1</td>\n",
       "      <td>26</td>\n",
       "      <td>10</td>\n",
       "      <td>4132</td>\n",
       "    </tr>\n",
       "    <tr>\n",
       "      <th>1</th>\n",
       "      <td>1</td>\n",
       "      <td>4573</td>\n",
       "      <td>19</td>\n",
       "      <td>19</td>\n",
       "      <td>9</td>\n",
       "      <td>30</td>\n",
       "      <td>6</td>\n",
       "      <td>9</td>\n",
       "      <td>7</td>\n",
       "      <td>11</td>\n",
       "      <td>4684</td>\n",
       "    </tr>\n",
       "    <tr>\n",
       "      <th>2</th>\n",
       "      <td>10</td>\n",
       "      <td>12</td>\n",
       "      <td>3834</td>\n",
       "      <td>88</td>\n",
       "      <td>33</td>\n",
       "      <td>14</td>\n",
       "      <td>20</td>\n",
       "      <td>81</td>\n",
       "      <td>76</td>\n",
       "      <td>9</td>\n",
       "      <td>4177</td>\n",
       "    </tr>\n",
       "    <tr>\n",
       "      <th>3</th>\n",
       "      <td>2</td>\n",
       "      <td>4</td>\n",
       "      <td>53</td>\n",
       "      <td>3974</td>\n",
       "      <td>4</td>\n",
       "      <td>149</td>\n",
       "      <td>0</td>\n",
       "      <td>42</td>\n",
       "      <td>51</td>\n",
       "      <td>72</td>\n",
       "      <td>4351</td>\n",
       "    </tr>\n",
       "    <tr>\n",
       "      <th>4</th>\n",
       "      <td>6</td>\n",
       "      <td>8</td>\n",
       "      <td>3</td>\n",
       "      <td>0</td>\n",
       "      <td>3874</td>\n",
       "      <td>3</td>\n",
       "      <td>61</td>\n",
       "      <td>3</td>\n",
       "      <td>7</td>\n",
       "      <td>107</td>\n",
       "      <td>4072</td>\n",
       "    </tr>\n",
       "    <tr>\n",
       "      <th>5</th>\n",
       "      <td>12</td>\n",
       "      <td>1</td>\n",
       "      <td>4</td>\n",
       "      <td>28</td>\n",
       "      <td>11</td>\n",
       "      <td>3628</td>\n",
       "      <td>26</td>\n",
       "      <td>3</td>\n",
       "      <td>30</td>\n",
       "      <td>52</td>\n",
       "      <td>3795</td>\n",
       "    </tr>\n",
       "    <tr>\n",
       "      <th>6</th>\n",
       "      <td>12</td>\n",
       "      <td>1</td>\n",
       "      <td>1</td>\n",
       "      <td>0</td>\n",
       "      <td>40</td>\n",
       "      <td>22</td>\n",
       "      <td>4049</td>\n",
       "      <td>0</td>\n",
       "      <td>12</td>\n",
       "      <td>0</td>\n",
       "      <td>4137</td>\n",
       "    </tr>\n",
       "    <tr>\n",
       "      <th>7</th>\n",
       "      <td>3</td>\n",
       "      <td>3</td>\n",
       "      <td>35</td>\n",
       "      <td>20</td>\n",
       "      <td>18</td>\n",
       "      <td>1</td>\n",
       "      <td>0</td>\n",
       "      <td>4153</td>\n",
       "      <td>10</td>\n",
       "      <td>158</td>\n",
       "      <td>4401</td>\n",
       "    </tr>\n",
       "    <tr>\n",
       "      <th>8</th>\n",
       "      <td>10</td>\n",
       "      <td>33</td>\n",
       "      <td>10</td>\n",
       "      <td>16</td>\n",
       "      <td>17</td>\n",
       "      <td>29</td>\n",
       "      <td>27</td>\n",
       "      <td>7</td>\n",
       "      <td>3830</td>\n",
       "      <td>84</td>\n",
       "      <td>4063</td>\n",
       "    </tr>\n",
       "    <tr>\n",
       "      <th>9</th>\n",
       "      <td>16</td>\n",
       "      <td>8</td>\n",
       "      <td>2</td>\n",
       "      <td>21</td>\n",
       "      <td>97</td>\n",
       "      <td>22</td>\n",
       "      <td>0</td>\n",
       "      <td>17</td>\n",
       "      <td>33</td>\n",
       "      <td>3972</td>\n",
       "      <td>4188</td>\n",
       "    </tr>\n",
       "    <tr>\n",
       "      <th>All</th>\n",
       "      <td>4114</td>\n",
       "      <td>4645</td>\n",
       "      <td>3963</td>\n",
       "      <td>4166</td>\n",
       "      <td>4108</td>\n",
       "      <td>3905</td>\n",
       "      <td>4226</td>\n",
       "      <td>4316</td>\n",
       "      <td>4082</td>\n",
       "      <td>4475</td>\n",
       "      <td>42000</td>\n",
       "    </tr>\n",
       "  </tbody>\n",
       "</table>\n",
       "</div>"
      ],
      "text/plain": [
       "predicted     0     1     2     3     4     5     6     7     8     9    All\n",
       "original                                                                    \n",
       "0          4042     2     2     0     5     7    37     1    26    10   4132\n",
       "1             1  4573    19    19     9    30     6     9     7    11   4684\n",
       "2            10    12  3834    88    33    14    20    81    76     9   4177\n",
       "3             2     4    53  3974     4   149     0    42    51    72   4351\n",
       "4             6     8     3     0  3874     3    61     3     7   107   4072\n",
       "5            12     1     4    28    11  3628    26     3    30    52   3795\n",
       "6            12     1     1     0    40    22  4049     0    12     0   4137\n",
       "7             3     3    35    20    18     1     0  4153    10   158   4401\n",
       "8            10    33    10    16    17    29    27     7  3830    84   4063\n",
       "9            16     8     2    21    97    22     0    17    33  3972   4188\n",
       "All        4114  4645  3963  4166  4108  3905  4226  4316  4082  4475  42000"
      ]
     },
     "execution_count": 181,
     "metadata": {},
     "output_type": "execute_result"
    }
   ],
   "source": [
    "pd.crosstab(cDF['original'],cDF['predicted'],margins = True)"
   ]
  },
  {
   "cell_type": "code",
   "execution_count": 186,
   "metadata": {},
   "outputs": [
    {
     "data": {
      "text/plain": [
       "96.27"
      ]
     },
     "execution_count": 186,
     "metadata": {},
     "output_type": "execute_result"
    }
   ],
   "source": [
    "round(100*(42000-(2071-503))/42000,2)"
   ]
  },
  {
   "cell_type": "markdown",
   "metadata": {},
   "source": [
    "Model does quite ok. Number 9 gets misclassified most often. Bringing mistake here down could increase accuracy to 96%"
   ]
  },
  {
   "cell_type": "code",
   "execution_count": 188,
   "metadata": {},
   "outputs": [
    {
     "data": {
      "text/html": [
       "<div>\n",
       "<table border=\"1\" class=\"dataframe\">\n",
       "  <thead>\n",
       "    <tr style=\"text-align: right;\">\n",
       "      <th></th>\n",
       "      <th>original</th>\n",
       "      <th>predicted</th>\n",
       "    </tr>\n",
       "  </thead>\n",
       "  <tbody>\n",
       "    <tr>\n",
       "      <th>0</th>\n",
       "      <td>1</td>\n",
       "      <td>1</td>\n",
       "    </tr>\n",
       "    <tr>\n",
       "      <th>1</th>\n",
       "      <td>0</td>\n",
       "      <td>0</td>\n",
       "    </tr>\n",
       "    <tr>\n",
       "      <th>2</th>\n",
       "      <td>1</td>\n",
       "      <td>1</td>\n",
       "    </tr>\n",
       "    <tr>\n",
       "      <th>3</th>\n",
       "      <td>4</td>\n",
       "      <td>4</td>\n",
       "    </tr>\n",
       "    <tr>\n",
       "      <th>4</th>\n",
       "      <td>0</td>\n",
       "      <td>0</td>\n",
       "    </tr>\n",
       "    <tr>\n",
       "      <th>5</th>\n",
       "      <td>0</td>\n",
       "      <td>0</td>\n",
       "    </tr>\n",
       "    <tr>\n",
       "      <th>6</th>\n",
       "      <td>7</td>\n",
       "      <td>7</td>\n",
       "    </tr>\n",
       "    <tr>\n",
       "      <th>7</th>\n",
       "      <td>3</td>\n",
       "      <td>3</td>\n",
       "    </tr>\n",
       "    <tr>\n",
       "      <th>8</th>\n",
       "      <td>5</td>\n",
       "      <td>5</td>\n",
       "    </tr>\n",
       "    <tr>\n",
       "      <th>9</th>\n",
       "      <td>3</td>\n",
       "      <td>3</td>\n",
       "    </tr>\n",
       "    <tr>\n",
       "      <th>10</th>\n",
       "      <td>8</td>\n",
       "      <td>8</td>\n",
       "    </tr>\n",
       "    <tr>\n",
       "      <th>11</th>\n",
       "      <td>9</td>\n",
       "      <td>9</td>\n",
       "    </tr>\n",
       "    <tr>\n",
       "      <th>12</th>\n",
       "      <td>1</td>\n",
       "      <td>1</td>\n",
       "    </tr>\n",
       "    <tr>\n",
       "      <th>13</th>\n",
       "      <td>3</td>\n",
       "      <td>3</td>\n",
       "    </tr>\n",
       "    <tr>\n",
       "      <th>14</th>\n",
       "      <td>3</td>\n",
       "      <td>3</td>\n",
       "    </tr>\n",
       "    <tr>\n",
       "      <th>15</th>\n",
       "      <td>1</td>\n",
       "      <td>1</td>\n",
       "    </tr>\n",
       "    <tr>\n",
       "      <th>16</th>\n",
       "      <td>2</td>\n",
       "      <td>8</td>\n",
       "    </tr>\n",
       "    <tr>\n",
       "      <th>17</th>\n",
       "      <td>0</td>\n",
       "      <td>0</td>\n",
       "    </tr>\n",
       "    <tr>\n",
       "      <th>18</th>\n",
       "      <td>7</td>\n",
       "      <td>7</td>\n",
       "    </tr>\n",
       "    <tr>\n",
       "      <th>19</th>\n",
       "      <td>5</td>\n",
       "      <td>6</td>\n",
       "    </tr>\n",
       "    <tr>\n",
       "      <th>20</th>\n",
       "      <td>8</td>\n",
       "      <td>8</td>\n",
       "    </tr>\n",
       "    <tr>\n",
       "      <th>21</th>\n",
       "      <td>6</td>\n",
       "      <td>6</td>\n",
       "    </tr>\n",
       "    <tr>\n",
       "      <th>22</th>\n",
       "      <td>2</td>\n",
       "      <td>2</td>\n",
       "    </tr>\n",
       "    <tr>\n",
       "      <th>23</th>\n",
       "      <td>0</td>\n",
       "      <td>0</td>\n",
       "    </tr>\n",
       "    <tr>\n",
       "      <th>24</th>\n",
       "      <td>2</td>\n",
       "      <td>2</td>\n",
       "    </tr>\n",
       "    <tr>\n",
       "      <th>25</th>\n",
       "      <td>3</td>\n",
       "      <td>3</td>\n",
       "    </tr>\n",
       "    <tr>\n",
       "      <th>26</th>\n",
       "      <td>6</td>\n",
       "      <td>6</td>\n",
       "    </tr>\n",
       "    <tr>\n",
       "      <th>27</th>\n",
       "      <td>9</td>\n",
       "      <td>9</td>\n",
       "    </tr>\n",
       "    <tr>\n",
       "      <th>28</th>\n",
       "      <td>9</td>\n",
       "      <td>9</td>\n",
       "    </tr>\n",
       "    <tr>\n",
       "      <th>29</th>\n",
       "      <td>7</td>\n",
       "      <td>7</td>\n",
       "    </tr>\n",
       "    <tr>\n",
       "      <th>...</th>\n",
       "      <td>...</td>\n",
       "      <td>...</td>\n",
       "    </tr>\n",
       "    <tr>\n",
       "      <th>41970</th>\n",
       "      <td>2</td>\n",
       "      <td>2</td>\n",
       "    </tr>\n",
       "    <tr>\n",
       "      <th>41971</th>\n",
       "      <td>3</td>\n",
       "      <td>3</td>\n",
       "    </tr>\n",
       "    <tr>\n",
       "      <th>41972</th>\n",
       "      <td>4</td>\n",
       "      <td>4</td>\n",
       "    </tr>\n",
       "    <tr>\n",
       "      <th>41973</th>\n",
       "      <td>4</td>\n",
       "      <td>4</td>\n",
       "    </tr>\n",
       "    <tr>\n",
       "      <th>41974</th>\n",
       "      <td>3</td>\n",
       "      <td>5</td>\n",
       "    </tr>\n",
       "    <tr>\n",
       "      <th>41975</th>\n",
       "      <td>9</td>\n",
       "      <td>9</td>\n",
       "    </tr>\n",
       "    <tr>\n",
       "      <th>41976</th>\n",
       "      <td>2</td>\n",
       "      <td>2</td>\n",
       "    </tr>\n",
       "    <tr>\n",
       "      <th>41977</th>\n",
       "      <td>4</td>\n",
       "      <td>4</td>\n",
       "    </tr>\n",
       "    <tr>\n",
       "      <th>41978</th>\n",
       "      <td>4</td>\n",
       "      <td>4</td>\n",
       "    </tr>\n",
       "    <tr>\n",
       "      <th>41979</th>\n",
       "      <td>4</td>\n",
       "      <td>4</td>\n",
       "    </tr>\n",
       "    <tr>\n",
       "      <th>41980</th>\n",
       "      <td>7</td>\n",
       "      <td>7</td>\n",
       "    </tr>\n",
       "    <tr>\n",
       "      <th>41981</th>\n",
       "      <td>2</td>\n",
       "      <td>2</td>\n",
       "    </tr>\n",
       "    <tr>\n",
       "      <th>41982</th>\n",
       "      <td>8</td>\n",
       "      <td>8</td>\n",
       "    </tr>\n",
       "    <tr>\n",
       "      <th>41983</th>\n",
       "      <td>7</td>\n",
       "      <td>7</td>\n",
       "    </tr>\n",
       "    <tr>\n",
       "      <th>41984</th>\n",
       "      <td>3</td>\n",
       "      <td>3</td>\n",
       "    </tr>\n",
       "    <tr>\n",
       "      <th>41985</th>\n",
       "      <td>3</td>\n",
       "      <td>3</td>\n",
       "    </tr>\n",
       "    <tr>\n",
       "      <th>41986</th>\n",
       "      <td>0</td>\n",
       "      <td>0</td>\n",
       "    </tr>\n",
       "    <tr>\n",
       "      <th>41987</th>\n",
       "      <td>5</td>\n",
       "      <td>5</td>\n",
       "    </tr>\n",
       "    <tr>\n",
       "      <th>41988</th>\n",
       "      <td>0</td>\n",
       "      <td>0</td>\n",
       "    </tr>\n",
       "    <tr>\n",
       "      <th>41989</th>\n",
       "      <td>5</td>\n",
       "      <td>5</td>\n",
       "    </tr>\n",
       "    <tr>\n",
       "      <th>41990</th>\n",
       "      <td>3</td>\n",
       "      <td>3</td>\n",
       "    </tr>\n",
       "    <tr>\n",
       "      <th>41991</th>\n",
       "      <td>1</td>\n",
       "      <td>1</td>\n",
       "    </tr>\n",
       "    <tr>\n",
       "      <th>41992</th>\n",
       "      <td>9</td>\n",
       "      <td>9</td>\n",
       "    </tr>\n",
       "    <tr>\n",
       "      <th>41993</th>\n",
       "      <td>6</td>\n",
       "      <td>6</td>\n",
       "    </tr>\n",
       "    <tr>\n",
       "      <th>41994</th>\n",
       "      <td>4</td>\n",
       "      <td>4</td>\n",
       "    </tr>\n",
       "    <tr>\n",
       "      <th>41995</th>\n",
       "      <td>0</td>\n",
       "      <td>0</td>\n",
       "    </tr>\n",
       "    <tr>\n",
       "      <th>41996</th>\n",
       "      <td>1</td>\n",
       "      <td>1</td>\n",
       "    </tr>\n",
       "    <tr>\n",
       "      <th>41997</th>\n",
       "      <td>7</td>\n",
       "      <td>7</td>\n",
       "    </tr>\n",
       "    <tr>\n",
       "      <th>41998</th>\n",
       "      <td>6</td>\n",
       "      <td>6</td>\n",
       "    </tr>\n",
       "    <tr>\n",
       "      <th>41999</th>\n",
       "      <td>9</td>\n",
       "      <td>9</td>\n",
       "    </tr>\n",
       "  </tbody>\n",
       "</table>\n",
       "<p>42000 rows × 2 columns</p>\n",
       "</div>"
      ],
      "text/plain": [
       "       original  predicted\n",
       "0             1          1\n",
       "1             0          0\n",
       "2             1          1\n",
       "3             4          4\n",
       "4             0          0\n",
       "5             0          0\n",
       "6             7          7\n",
       "7             3          3\n",
       "8             5          5\n",
       "9             3          3\n",
       "10            8          8\n",
       "11            9          9\n",
       "12            1          1\n",
       "13            3          3\n",
       "14            3          3\n",
       "15            1          1\n",
       "16            2          8\n",
       "17            0          0\n",
       "18            7          7\n",
       "19            5          6\n",
       "20            8          8\n",
       "21            6          6\n",
       "22            2          2\n",
       "23            0          0\n",
       "24            2          2\n",
       "25            3          3\n",
       "26            6          6\n",
       "27            9          9\n",
       "28            9          9\n",
       "29            7          7\n",
       "...         ...        ...\n",
       "41970         2          2\n",
       "41971         3          3\n",
       "41972         4          4\n",
       "41973         4          4\n",
       "41974         3          5\n",
       "41975         9          9\n",
       "41976         2          2\n",
       "41977         4          4\n",
       "41978         4          4\n",
       "41979         4          4\n",
       "41980         7          7\n",
       "41981         2          2\n",
       "41982         8          8\n",
       "41983         7          7\n",
       "41984         3          3\n",
       "41985         3          3\n",
       "41986         0          0\n",
       "41987         5          5\n",
       "41988         0          0\n",
       "41989         5          5\n",
       "41990         3          3\n",
       "41991         1          1\n",
       "41992         9          9\n",
       "41993         6          6\n",
       "41994         4          4\n",
       "41995         0          0\n",
       "41996         1          1\n",
       "41997         7          7\n",
       "41998         6          6\n",
       "41999         9          9\n",
       "\n",
       "[42000 rows x 2 columns]"
      ]
     },
     "execution_count": 188,
     "metadata": {},
     "output_type": "execute_result"
    }
   ],
   "source": [
    "cDF"
   ]
  },
  {
   "cell_type": "code",
   "execution_count": 193,
   "metadata": {},
   "outputs": [],
   "source": [
    "Xtrain=Xtrain.reshape(-1,28,28)"
   ]
  },
  {
   "cell_type": "markdown",
   "metadata": {},
   "source": [
    "Checking some 9 that should be 7"
   ]
  },
  {
   "cell_type": "code",
   "execution_count": 210,
   "metadata": {},
   "outputs": [],
   "source": [
    "Xmis97=Xtrain[cDF2.loc[(cDF2['original']==7) & (cDF2['predicted']==9),:].index]"
   ]
  },
  {
   "cell_type": "code",
   "execution_count": 211,
   "metadata": {},
   "outputs": [
    {
     "data": {
      "text/plain": [
       "(158, 28, 28)"
      ]
     },
     "execution_count": 211,
     "metadata": {},
     "output_type": "execute_result"
    }
   ],
   "source": [
    "Xmis97.shape"
   ]
  },
  {
   "cell_type": "code",
   "execution_count": 212,
   "metadata": {},
   "outputs": [
    {
     "data": {
      "text/plain": [
       "<matplotlib.image.AxesImage at 0x7f4766cca710>"
      ]
     },
     "execution_count": 212,
     "metadata": {},
     "output_type": "execute_result"
    },
    {
     "data": {
      "image/png": "[encoded data removed]",
      "text/plain": [
       "<matplotlib.figure.Figure at 0x7f4766d174e0>"
      ]
     },
     "metadata": {},
     "output_type": "display_data"
    }
   ],
   "source": [
    "plt.imshow(negativeMask-Xmis97[34], cmap='gray')"
   ]
  },
  {
   "cell_type": "code",
   "execution_count": 213,
   "metadata": {},
   "outputs": [
    {
     "data": {
      "text/plain": [
       "<matplotlib.image.AxesImage at 0x7f4766cbd630>"
      ]
     },
     "execution_count": 213,
     "metadata": {},
     "output_type": "execute_result"
    },
    {
     "data": {
      "image/png": "[encoded data removed]",
      "text/plain": [
       "<matplotlib.figure.Figure at 0x7f47907146a0>"
      ]
     },
     "metadata": {},
     "output_type": "display_data"
    }
   ],
   "source": [
    "plt.imshow(negativeMask-Xmis97[4], cmap='gray')"
   ]
  },
  {
   "cell_type": "code",
   "execution_count": 215,
   "metadata": {},
   "outputs": [
    {
     "data": {
      "text/plain": [
       "<matplotlib.image.AxesImage at 0x7f4766b8b908>"
      ]
     },
     "execution_count": 215,
     "metadata": {},
     "output_type": "execute_result"
    },
    {
     "data": {
      "image/png": "[encoded data removed]",
      "text/plain": [
       "<matplotlib.figure.Figure at 0x7f4766c7dfd0>"
      ]
     },
     "metadata": {},
     "output_type": "display_data"
    }
   ],
   "source": [
    "plt.imshow(negativeMask-Xmis97[64], cmap='gray')"
   ]
  },
  {
   "cell_type": "code",
   "execution_count": 221,
   "metadata": {},
   "outputs": [
    {
     "name": "stdout",
     "output_type": "stream",
     "text": [
      "_________________________________________________________________\n",
      "Layer (type)                 Output Shape              Param #   \n",
      "=================================================================\n",
      "conv2d_1 (Conv2D)            (None, 17, 17, 64)        9280      \n",
      "_________________________________________________________________\n",
      "average_pooling2d_1 (Average (None, 4, 4, 64)          0         \n",
      "_________________________________________________________________\n",
      "conv2d_2 (Conv2D)            (None, 2, 2, 32)          18464     \n",
      "_________________________________________________________________\n",
      "max_pooling2d_1 (MaxPooling2 (None, 1, 1, 32)          0         \n",
      "_________________________________________________________________\n",
      "activation_1 (Activation)    (None, 1, 1, 32)          0         \n",
      "_________________________________________________________________\n",
      "flatten_1 (Flatten)          (None, 32)                0         \n",
      "_________________________________________________________________\n",
      "dense_1 (Dense)              (None, 128)               4224      \n",
      "_________________________________________________________________\n",
      "dense_2 (Dense)              (None, 10)                1290      \n",
      "=================================================================\n",
      "Total params: 33,258\n",
      "Trainable params: 33,258\n",
      "Non-trainable params: 0\n",
      "_________________________________________________________________\n"
     ]
    }
   ],
   "source": [
    "K.clear_session()\n",
    "\n",
    "model = Sequential()\n",
    "\n",
    "model.add(Conv2D(64, (12, 12), input_shape=(28, 28, 1)))\n",
    "#model.add(Conv2D(64, (8, 8), input_shape=(28, 28, 1)))\n",
    "model.add(AvgPool2D(pool_size=(4, 4)))\n",
    "model.add(Conv2D(32, (3, 3)))\n",
    "model.add(MaxPool2D(pool_size=(2, 2)))\n",
    "model.add(Activation('relu'))\n",
    "\n",
    "model.add(Flatten())\n",
    "#model.add(Conv1D(32, 5))\n",
    "\n",
    "model.add(Dense(128, activation='relu'))\n",
    "\n",
    "model.add(Dense(10, activation='softmax'))\n",
    "\n",
    "model.compile(loss='categorical_crossentropy',\n",
    "              optimizer='adam',\n",
    "              metrics=['accuracy'])\n",
    "model.summary()"
   ]
  },
  {
   "cell_type": "code",
   "execution_count": 223,
   "metadata": {},
   "outputs": [
    {
     "name": "stdout",
     "output_type": "stream",
     "text": [
      "Train on 33600 samples, validate on 8400 samples\n",
      "Epoch 1/20\n",
      "33600/33600 [==============================] - 23s - loss: 2.0551 - acc: 0.7762 - val_loss: 0.4206 - val_acc: 0.8945\n",
      "Epoch 2/20\n",
      "33600/33600 [==============================] - 23s - loss: 0.4453 - acc: 0.8868 - val_loss: 0.3941 - val_acc: 0.9085\n",
      "Epoch 3/20\n",
      "33600/33600 [==============================] - 23s - loss: 0.4232 - acc: 0.8947 - val_loss: 0.4600 - val_acc: 0.9012\n",
      "Epoch 4/20\n",
      "33600/33600 [==============================] - 23s - loss: 0.3727 - acc: 0.9056 - val_loss: 0.3573 - val_acc: 0.9135\n",
      "Epoch 5/20\n",
      "33600/33600 [==============================] - 23s - loss: 0.3437 - acc: 0.9122 - val_loss: 0.3358 - val_acc: 0.9150\n",
      "Epoch 6/20\n",
      "33600/33600 [==============================] - 24s - loss: 0.3093 - acc: 0.9190 - val_loss: 0.2611 - val_acc: 0.9265\n",
      "Epoch 7/20\n",
      "33600/33600 [==============================] - 24s - loss: 0.2754 - acc: 0.9233 - val_loss: 0.2701 - val_acc: 0.9280\n",
      "Epoch 8/20\n",
      "33600/33600 [==============================] - 23s - loss: 0.2400 - acc: 0.9323 - val_loss: 0.3118 - val_acc: 0.9162\n",
      "Epoch 9/20\n",
      "33600/33600 [==============================] - 23s - loss: 0.2167 - acc: 0.9379 - val_loss: 0.2098 - val_acc: 0.9429\n",
      "Epoch 10/20\n",
      "33600/33600 [==============================] - 25s - loss: 0.2057 - acc: 0.9400 - val_loss: 0.2094 - val_acc: 0.9433\n",
      "Epoch 11/20\n",
      "33600/33600 [==============================] - 25s - loss: 0.1917 - acc: 0.9443 - val_loss: 0.2546 - val_acc: 0.9368\n",
      "Epoch 12/20\n",
      "33600/33600 [==============================] - 24s - loss: 0.1910 - acc: 0.9458 - val_loss: 0.1849 - val_acc: 0.9492\n",
      "Epoch 13/20\n",
      "33600/33600 [==============================] - 28s - loss: 0.1849 - acc: 0.9477 - val_loss: 0.1764 - val_acc: 0.9499\n",
      "Epoch 14/20\n",
      "33600/33600 [==============================] - 29s - loss: 0.1834 - acc: 0.9467 - val_loss: 0.1796 - val_acc: 0.9506\n",
      "Epoch 15/20\n",
      "33600/33600 [==============================] - 29s - loss: 0.1699 - acc: 0.9505 - val_loss: 0.2209 - val_acc: 0.9387\n",
      "Epoch 16/20\n",
      "33600/33600 [==============================] - 29s - loss: 0.1717 - acc: 0.9507 - val_loss: 0.1635 - val_acc: 0.9557\n",
      "Epoch 17/20\n",
      "33600/33600 [==============================] - 33s - loss: 0.1683 - acc: 0.9509 - val_loss: 0.1925 - val_acc: 0.9506\n",
      "Epoch 18/20\n",
      "33600/33600 [==============================] - 33s - loss: 0.1669 - acc: 0.9522 - val_loss: 0.1846 - val_acc: 0.9524\n",
      "Epoch 19/20\n",
      "33600/33600 [==============================] - 32s - loss: 0.1595 - acc: 0.9554 - val_loss: 0.1600 - val_acc: 0.9586\n",
      "Epoch 20/20\n",
      "33600/33600 [==============================] - 33s - loss: 0.1543 - acc: 0.9573 - val_loss: 0.1748 - val_acc: 0.9557\n"
     ]
    },
    {
     "data": {
      "text/plain": [
       "<keras.callbacks.History at 0x7f4766a1f710>"
      ]
     },
     "execution_count": 223,
     "metadata": {},
     "output_type": "execute_result"
    }
   ],
   "source": [
    "Xtrain = Xtrain.reshape(-1, 28, 28, 1)\n",
    "model.fit(Xtrain, y_train_cat, batch_size=32,\n",
    "          epochs=20, verbose=1, validation_split=0.2)"
   ]
  },
  {
   "cell_type": "code",
   "execution_count": 224,
   "metadata": {},
   "outputs": [
    {
     "data": {
      "text/html": [
       "<div>\n",
       "<table border=\"1\" class=\"dataframe\">\n",
       "  <thead>\n",
       "    <tr style=\"text-align: right;\">\n",
       "      <th>predicted</th>\n",
       "      <th>0</th>\n",
       "      <th>1</th>\n",
       "      <th>2</th>\n",
       "      <th>3</th>\n",
       "      <th>4</th>\n",
       "      <th>5</th>\n",
       "      <th>6</th>\n",
       "      <th>7</th>\n",
       "      <th>8</th>\n",
       "      <th>9</th>\n",
       "      <th>All</th>\n",
       "    </tr>\n",
       "    <tr>\n",
       "      <th>original</th>\n",
       "      <th></th>\n",
       "      <th></th>\n",
       "      <th></th>\n",
       "      <th></th>\n",
       "      <th></th>\n",
       "      <th></th>\n",
       "      <th></th>\n",
       "      <th></th>\n",
       "      <th></th>\n",
       "      <th></th>\n",
       "      <th></th>\n",
       "    </tr>\n",
       "  </thead>\n",
       "  <tbody>\n",
       "    <tr>\n",
       "      <th>0</th>\n",
       "      <td>0</td>\n",
       "      <td>0</td>\n",
       "      <td>1</td>\n",
       "      <td>1</td>\n",
       "      <td>4</td>\n",
       "      <td>2</td>\n",
       "      <td>28</td>\n",
       "      <td>0</td>\n",
       "      <td>30</td>\n",
       "      <td>5</td>\n",
       "      <td>71</td>\n",
       "    </tr>\n",
       "    <tr>\n",
       "      <th>1</th>\n",
       "      <td>0</td>\n",
       "      <td>0</td>\n",
       "      <td>24</td>\n",
       "      <td>8</td>\n",
       "      <td>5</td>\n",
       "      <td>6</td>\n",
       "      <td>2</td>\n",
       "      <td>16</td>\n",
       "      <td>17</td>\n",
       "      <td>2</td>\n",
       "      <td>80</td>\n",
       "    </tr>\n",
       "    <tr>\n",
       "      <th>2</th>\n",
       "      <td>6</td>\n",
       "      <td>2</td>\n",
       "      <td>0</td>\n",
       "      <td>59</td>\n",
       "      <td>10</td>\n",
       "      <td>3</td>\n",
       "      <td>20</td>\n",
       "      <td>156</td>\n",
       "      <td>49</td>\n",
       "      <td>2</td>\n",
       "      <td>307</td>\n",
       "    </tr>\n",
       "    <tr>\n",
       "      <th>3</th>\n",
       "      <td>1</td>\n",
       "      <td>0</td>\n",
       "      <td>32</td>\n",
       "      <td>0</td>\n",
       "      <td>0</td>\n",
       "      <td>21</td>\n",
       "      <td>0</td>\n",
       "      <td>34</td>\n",
       "      <td>52</td>\n",
       "      <td>22</td>\n",
       "      <td>162</td>\n",
       "    </tr>\n",
       "    <tr>\n",
       "      <th>4</th>\n",
       "      <td>4</td>\n",
       "      <td>5</td>\n",
       "      <td>5</td>\n",
       "      <td>1</td>\n",
       "      <td>0</td>\n",
       "      <td>2</td>\n",
       "      <td>46</td>\n",
       "      <td>13</td>\n",
       "      <td>14</td>\n",
       "      <td>103</td>\n",
       "      <td>193</td>\n",
       "    </tr>\n",
       "    <tr>\n",
       "      <th>5</th>\n",
       "      <td>11</td>\n",
       "      <td>2</td>\n",
       "      <td>12</td>\n",
       "      <td>217</td>\n",
       "      <td>4</td>\n",
       "      <td>0</td>\n",
       "      <td>55</td>\n",
       "      <td>5</td>\n",
       "      <td>62</td>\n",
       "      <td>12</td>\n",
       "      <td>380</td>\n",
       "    </tr>\n",
       "    <tr>\n",
       "      <th>6</th>\n",
       "      <td>19</td>\n",
       "      <td>7</td>\n",
       "      <td>0</td>\n",
       "      <td>2</td>\n",
       "      <td>9</td>\n",
       "      <td>6</td>\n",
       "      <td>0</td>\n",
       "      <td>0</td>\n",
       "      <td>11</td>\n",
       "      <td>0</td>\n",
       "      <td>54</td>\n",
       "    </tr>\n",
       "    <tr>\n",
       "      <th>7</th>\n",
       "      <td>4</td>\n",
       "      <td>2</td>\n",
       "      <td>12</td>\n",
       "      <td>11</td>\n",
       "      <td>8</td>\n",
       "      <td>0</td>\n",
       "      <td>1</td>\n",
       "      <td>0</td>\n",
       "      <td>5</td>\n",
       "      <td>33</td>\n",
       "      <td>76</td>\n",
       "    </tr>\n",
       "    <tr>\n",
       "      <th>8</th>\n",
       "      <td>15</td>\n",
       "      <td>28</td>\n",
       "      <td>10</td>\n",
       "      <td>16</td>\n",
       "      <td>8</td>\n",
       "      <td>3</td>\n",
       "      <td>23</td>\n",
       "      <td>10</td>\n",
       "      <td>0</td>\n",
       "      <td>30</td>\n",
       "      <td>143</td>\n",
       "    </tr>\n",
       "    <tr>\n",
       "      <th>9</th>\n",
       "      <td>18</td>\n",
       "      <td>2</td>\n",
       "      <td>2</td>\n",
       "      <td>44</td>\n",
       "      <td>69</td>\n",
       "      <td>36</td>\n",
       "      <td>4</td>\n",
       "      <td>76</td>\n",
       "      <td>31</td>\n",
       "      <td>0</td>\n",
       "      <td>282</td>\n",
       "    </tr>\n",
       "    <tr>\n",
       "      <th>All</th>\n",
       "      <td>78</td>\n",
       "      <td>48</td>\n",
       "      <td>98</td>\n",
       "      <td>359</td>\n",
       "      <td>117</td>\n",
       "      <td>79</td>\n",
       "      <td>179</td>\n",
       "      <td>310</td>\n",
       "      <td>271</td>\n",
       "      <td>209</td>\n",
       "      <td>1748</td>\n",
       "    </tr>\n",
       "  </tbody>\n",
       "</table>\n",
       "</div>"
      ],
      "text/plain": [
       "predicted   0   1   2    3    4   5    6    7    8    9   All\n",
       "original                                                     \n",
       "0           0   0   1    1    4   2   28    0   30    5    71\n",
       "1           0   0  24    8    5   6    2   16   17    2    80\n",
       "2           6   2   0   59   10   3   20  156   49    2   307\n",
       "3           1   0  32    0    0  21    0   34   52   22   162\n",
       "4           4   5   5    1    0   2   46   13   14  103   193\n",
       "5          11   2  12  217    4   0   55    5   62   12   380\n",
       "6          19   7   0    2    9   6    0    0   11    0    54\n",
       "7           4   2  12   11    8   0    1    0    5   33    76\n",
       "8          15  28  10   16    8   3   23   10    0   30   143\n",
       "9          18   2   2   44   69  36    4   76   31    0   282\n",
       "All        78  48  98  359  117  79  179  310  271  209  1748"
      ]
     },
     "execution_count": 224,
     "metadata": {},
     "output_type": "execute_result"
    }
   ],
   "source": [
    "ypred = model.predict(Xtrain)\n",
    "predTrain=list(map(lambda x: list(x).index(max(x)),ypred))\n",
    "cDF = pd.DataFrame({'original':ytrain,'predicted':predTrain})\n",
    "cDF2=cDF[cDF['original']!=cDF['predicted']]\n",
    "pd.crosstab(cDF2['original'],cDF2['predicted'],margins = True)"
   ]
  },
  {
   "cell_type": "markdown",
   "metadata": {},
   "source": [
    "Increasing window size in first convolutional layer seems to help with diminishing misclassification of 7 vs 9 but at the same time increased misclassification of 5 vs 3. But generally it is progressing - not only because increase of accuracy, but because misclassifications are more concentrated which can be specifically addressed"
   ]
  },
  {
   "cell_type": "code",
   "execution_count": 237,
   "metadata": {},
   "outputs": [
    {
     "data": {
      "text/plain": [
       "<matplotlib.image.AxesImage at 0x7f4766605128>"
      ]
     },
     "execution_count": 237,
     "metadata": {},
     "output_type": "execute_result"
    },
    {
     "data": {
      "image/png": "[encoded data removed]",
      "text/plain": [
       "<matplotlib.figure.Figure at 0x7f476675f390>"
      ]
     },
     "metadata": {},
     "output_type": "display_data"
    }
   ],
   "source": [
    "plt.imshow(pd.crosstab(cDF2['original'],cDF2['predicted']),cmap='Reds')"
   ]
  },
  {
   "cell_type": "code",
   "execution_count": 232,
   "metadata": {},
   "outputs": [],
   "source": [
    "Xmis35=Xtrainpic[cDF2.loc[(cDF2['original']==5) & (cDF2['predicted']==3),:].index]"
   ]
  },
  {
   "cell_type": "code",
   "execution_count": 234,
   "metadata": {},
   "outputs": [
    {
     "data": {
      "text/plain": [
       "<matplotlib.image.AxesImage at 0x7f4766727710>"
      ]
     },
     "execution_count": 234,
     "metadata": {},
     "output_type": "execute_result"
    },
    {
     "data": {
      "image/png": "[encoded data removed]",
      "text/plain": [
       "<matplotlib.figure.Figure at 0x7f47667fa160>"
      ]
     },
     "metadata": {},
     "output_type": "display_data"
    }
   ],
   "source": [
    "plt.imshow(negativeMask-Xmis35[24], cmap='gray')"
   ]
  },
  {
   "cell_type": "code",
   "execution_count": 233,
   "metadata": {},
   "outputs": [
    {
     "data": {
      "text/plain": [
       "<matplotlib.image.AxesImage at 0x7f47667bfeb8>"
      ]
     },
     "execution_count": 233,
     "metadata": {},
     "output_type": "execute_result"
    },
    {
     "data": {
      "image/png": "[encoded data removed]",
      "text/plain": [
       "<matplotlib.figure.Figure at 0x7f4766838c88>"
      ]
     },
     "metadata": {},
     "output_type": "display_data"
    }
   ],
   "source": [
    "plt.imshow(negativeMask-Xmis35[2], cmap='gray')"
   ]
  },
  {
   "cell_type": "code",
   "execution_count": null,
   "metadata": {},
   "outputs": [],
   "source": []
  },
  {
   "cell_type": "markdown",
   "metadata": {},
   "source": [
    "Different tries. (Functional API)"
   ]
  },
  {
   "cell_type": "code",
   "execution_count": 118,
   "metadata": {},
   "outputs": [],
   "source": [
    "from keras.models import Model\n",
    "from keras.layers import Input\n",
    "from keras.layers import concatenate"
   ]
  },
  {
   "cell_type": "code",
   "execution_count": 156,
   "metadata": {},
   "outputs": [
    {
     "name": "stdout",
     "output_type": "stream",
     "text": [
      "____________________________________________________________________________________________________\n",
      "Layer (type)                     Output Shape          Param #     Connected to                     \n",
      "====================================================================================================\n",
      "image (InputLayer)               (None, 28, 28, 1)     0                                            \n",
      "____________________________________________________________________________________________________\n",
      "conv7 (Conv2D)                   (None, 22, 22, 64)    3200        image[0][0]                      \n",
      "____________________________________________________________________________________________________\n",
      "conv4 (Conv2D)                   (None, 25, 25, 64)    1088        image[0][0]                      \n",
      "____________________________________________________________________________________________________\n",
      "flatten_1 (Flatten)              (None, 30976)         0           conv7[0][0]                      \n",
      "____________________________________________________________________________________________________\n",
      "flatten_2 (Flatten)              (None, 40000)         0           conv4[0][0]                      \n",
      "____________________________________________________________________________________________________\n",
      "concatenate_1 (Concatenate)      (None, 70976)         0           flatten_1[0][0]                  \n",
      "                                                                   flatten_2[0][0]                  \n",
      "____________________________________________________________________________________________________\n",
      "dense_1 (Dense)                  (None, 16)            1135632     concatenate_1[0][0]              \n",
      "____________________________________________________________________________________________________\n",
      "dense_2 (Dense)                  (None, 10)            170         dense_1[0][0]                    \n",
      "====================================================================================================\n",
      "Total params: 1,140,090\n",
      "Trainable params: 1,140,090\n",
      "Non-trainable params: 0\n",
      "____________________________________________________________________________________________________\n"
     ]
    }
   ],
   "source": [
    "K.clear_session()\n",
    "\n",
    "main_input = Input((28, 28, 1), name='image')\n",
    "#main_inputpooled = AvgPool2D(2,2)(main_input)\n",
    "\n",
    "#x1=Conv2D(64, (14, 14),name=\"conv14\")(main_input)\n",
    "x2=Conv2D(64, (7, 7),name=\"conv7\")(main_input)\n",
    "x3=Conv2D(64, (4, 4),name=\"conv4\")(main_input)\n",
    "\n",
    "#x1p=MaxPool2D(pool_size=(14, 14))(x1)\n",
    "#x2p=MaxPool2D(pool_size=(2, 1))(x2)\n",
    "#x3p=MaxPool2D(pool_size=(1, 2))(x3)\n",
    "\n",
    "x2b=Conv2D(32, (4, 4))(x2)\n",
    "x3b=Conv2D(32, (2, 2))(x3)\n",
    "\n",
    "#x1pf=Flatten()(x1)\n",
    "x2pf=Flatten()(x2)\n",
    "x3pf=Flatten()(x3)\n",
    "#x = concatenate([x1pf,x2pf,x3pf])\n",
    "x = concatenate([x2pf,x3pf])\n",
    "x=Dense(16, activation='relu')(x)\n",
    "main_output=Dense(10, activation='softmax')(x)\n",
    "model = Model(inputs=main_input, outputs=main_output)\n",
    "model.compile(loss='categorical_crossentropy',\n",
    "              optimizer='rmsprop',\n",
    "              metrics=['accuracy'])\n",
    "model.summary()"
   ]
  },
  {
   "cell_type": "code",
   "execution_count": 159,
   "metadata": {},
   "outputs": [
    {
     "name": "stdout",
     "output_type": "stream",
     "text": [
      "Train on 33600 samples, validate on 8400 samples\n",
      "Epoch 1/10\n",
      "33600/33600 [==============================] - 62s - loss: 5.7841 - acc: 0.6410 - val_loss: 5.9009 - val_acc: 0.6338\n",
      "Epoch 2/10\n",
      "33600/33600 [==============================] - 62s - loss: 5.8154 - acc: 0.6391 - val_loss: 5.6470 - val_acc: 0.6496\n",
      "Epoch 3/10\n",
      "33600/33600 [==============================] - 62s - loss: 5.6364 - acc: 0.6502 - val_loss: 5.4615 - val_acc: 0.6608\n",
      "Epoch 4/10\n",
      "33600/33600 [==============================] - 62s - loss: 5.2693 - acc: 0.6729 - val_loss: 5.0629 - val_acc: 0.6858\n",
      "Epoch 5/10\n",
      "33600/33600 [==============================] - 63s - loss: 4.8250 - acc: 0.7005 - val_loss: 4.7231 - val_acc: 0.7069\n",
      "Epoch 6/10\n",
      "33600/33600 [==============================] - 63s - loss: 4.7802 - acc: 0.7033 - val_loss: 5.1129 - val_acc: 0.6826\n",
      "Epoch 7/10\n",
      "33600/33600 [==============================] - 63s - loss: 5.0235 - acc: 0.6882 - val_loss: 5.0958 - val_acc: 0.6838\n",
      "Epoch 8/10\n",
      "33600/33600 [==============================] - 64s - loss: 4.9422 - acc: 0.6932 - val_loss: 5.1983 - val_acc: 0.6774\n",
      "Epoch 9/10\n",
      "33600/33600 [==============================] - 63s - loss: 4.7941 - acc: 0.7025 - val_loss: 4.8006 - val_acc: 0.7021\n",
      "Epoch 10/10\n",
      "33600/33600 [==============================] - 63s - loss: 4.5845 - acc: 0.7154 - val_loss: 4.5783 - val_acc: 0.7160\n"
     ]
    },
    {
     "data": {
      "text/plain": [
       "<keras.callbacks.History at 0x7f4790714eb8>"
      ]
     },
     "execution_count": 159,
     "metadata": {},
     "output_type": "execute_result"
    }
   ],
   "source": [
    "model.fit(Xtrain, y_train_cat, batch_size=64,\n",
    "          epochs=10, verbose=1, validation_split=0.2)"
   ]
  },
  {
   "cell_type": "code",
   "execution_count": 111,
   "metadata": {},
   "outputs": [
    {
     "data": {
      "text/plain": [
       "[1, 2, 3, 4, 5, 6, 7, 8, 9]"
      ]
     },
     "execution_count": 111,
     "metadata": {},
     "output_type": "execute_result"
    }
   ],
   "source": [
    "list(range(1,10))"
   ]
  }
 ],
 "metadata": {
  "kernelspec": {
   "display_name": "Python 3",
   "language": "python",
   "name": "python3"
  },
  "language_info": {
   "codemirror_mode": {
    "name": "ipython",
    "version": 3
   },
   "file_extension": ".py",
   "mimetype": "text/x-python",
   "name": "python",
   "nbconvert_exporter": "python",
   "pygments_lexer": "ipython3",
   "version": "3.5.5"
  }
 },
 "nbformat": 4,
 "nbformat_minor": 2
}
