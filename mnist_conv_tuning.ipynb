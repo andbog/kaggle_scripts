{
 "cells": [
  {
   "cell_type": "code",
   "execution_count": 1,
   "metadata": {},
   "outputs": [],
   "source": [
    "import pandas as pd\n",
    "import numpy as np\n",
    "%matplotlib inline\n",
    "import matplotlib.pyplot as plt\n",
    "from math import sqrt"
   ]
  },
  {
   "cell_type": "code",
   "execution_count": 2,
   "metadata": {},
   "outputs": [
    {
     "name": "stderr",
     "output_type": "stream",
     "text": [
      "Using TensorFlow backend.\n"
     ]
    }
   ],
   "source": [
    "from keras.utils.np_utils import to_categorical\n",
    "from keras.layers import Flatten,MaxPool2D, AvgPool2D,Conv2D,concatenate,Input,Dense\n",
    "from keras.models import Model\n",
    "import keras.backend as K\n",
    "from keras.callbacks import EarlyStopping"
   ]
  },
  {
   "cell_type": "markdown",
   "metadata": {},
   "source": [
    "Read in data"
   ]
  },
  {
   "cell_type": "code",
   "execution_count": 3,
   "metadata": {},
   "outputs": [],
   "source": [
    "train = pd.read_csv(\"data/train.csv\")\n",
    "test = pd.read_csv(\"data/test.csv\")\n",
    "ytrain = train[\"label\"].values\n",
    "#ytest = train[\"label\"].values\n",
    "Xtrain = train.drop(\"label\",axis=1).values\n",
    "Xtest = test.values\n",
    "y_train_cat = to_categorical(ytrain)\n",
    "#y_test_cat = to_categorical(ytest)"
   ]
  },
  {
   "cell_type": "markdown",
   "metadata": {},
   "source": [
    "for drawing"
   ]
  },
  {
   "cell_type": "code",
   "execution_count": 4,
   "metadata": {},
   "outputs": [],
   "source": [
    "Xtrainpic = Xtrain.reshape(Xtrain.shape[0],int(sqrt(Xtrain.shape[1])),int(sqrt(Xtrain.shape[1])))\n",
    "negativeMask=np.ones(784).reshape(28,28)*255"
   ]
  },
  {
   "cell_type": "code",
   "execution_count": 5,
   "metadata": {},
   "outputs": [
    {
     "data": {
      "text/plain": [
       "<matplotlib.image.AxesImage at 0x7f359db219e8>"
      ]
     },
     "execution_count": 5,
     "metadata": {},
     "output_type": "execute_result"
    },
    {
     "data": {
      "image/png": "[encoded data removed]",
      "text/plain": [
       "<matplotlib.figure.Figure at 0x7f35b006ddd8>"
      ]
     },
     "metadata": {},
     "output_type": "display_data"
    }
   ],
   "source": [
    "plt.imshow(negativeMask-Xtrainpic[36], cmap='gray')"
   ]
  },
  {
   "cell_type": "markdown",
   "metadata": {},
   "source": [
    "Helper (wrapper) functions"
   ]
  },
  {
   "cell_type": "code",
   "execution_count": 6,
   "metadata": {},
   "outputs": [],
   "source": [
    "def prep_subm(Xtest,model):\n",
    "    ytest = model.predict(Xtest)\n",
    "    pred=list(map(lambda x: list(x).index(max(x)),ytest))\n",
    "    idx = range(1,len(pred)+1)\n",
    "    subm = pd.DataFrame(data={'ImageId':idx,'Label':pred})\n",
    "    subm.to_csv(\"subm.csv\",index=False)\n",
    "    \n",
    "def mis_data(Xtrain,model,ytrain):\n",
    "    ypred = model.predict(Xtrain)\n",
    "    predTrain=list(map(lambda x: list(x).index(max(x)),ypred))\n",
    "    cDF = pd.DataFrame({'original':ytrain,'predicted':predTrain})\n",
    "    cDF2=cDF[cDF['original']!=cDF['predicted']]\n",
    "    print(pd.crosstab(cDF2['original'],cDF2['predicted'],margins = True))\n",
    "    return cDF2\n",
    "\n",
    "def check_mis(org,pred,Xtrain,cDF2):\n",
    "    return Xtrain[cDF2.loc[(cDF2['original']==org) & (cDF2['predicted']==pred),:].index]"
   ]
  },
  {
   "cell_type": "markdown",
   "metadata": {},
   "source": [
    "Reshaping data for model"
   ]
  },
  {
   "cell_type": "code",
   "execution_count": 7,
   "metadata": {},
   "outputs": [],
   "source": [
    "Xtrain = Xtrain.reshape(-1, 28, 28, 1)\n",
    "Xtest = Xtest.reshape(-1, 28, 28, 1)"
   ]
  },
  {
   "cell_type": "markdown",
   "metadata": {},
   "source": [
    "Starting model (best working so far)"
   ]
  },
  {
   "cell_type": "code",
   "execution_count": 8,
   "metadata": {},
   "outputs": [
    {
     "name": "stdout",
     "output_type": "stream",
     "text": [
      "_________________________________________________________________\n",
      "Layer (type)                 Output Shape              Param #   \n",
      "=================================================================\n",
      "image (InputLayer)           (None, 28, 28, 1)         0         \n",
      "_________________________________________________________________\n",
      "conv12 (Conv2D)              (None, 17, 17, 64)        9280      \n",
      "_________________________________________________________________\n",
      "average_pooling2d_1 (Average (None, 4, 4, 64)          0         \n",
      "_________________________________________________________________\n",
      "conv3 (Conv2D)               (None, 2, 2, 32)          18464     \n",
      "_________________________________________________________________\n",
      "max_pooling2d_1 (MaxPooling2 (None, 1, 1, 32)          0         \n",
      "_________________________________________________________________\n",
      "flatten_1 (Flatten)          (None, 32)                0         \n",
      "_________________________________________________________________\n",
      "dense_1 (Dense)              (None, 128)               4224      \n",
      "_________________________________________________________________\n",
      "dense_2 (Dense)              (None, 10)                1290      \n",
      "=================================================================\n",
      "Total params: 33,258\n",
      "Trainable params: 33,258\n",
      "Non-trainable params: 0\n",
      "_________________________________________________________________\n"
     ]
    }
   ],
   "source": [
    "K.clear_session()\n",
    "from keras.models import Model\n",
    "from keras.layers import Input\n",
    "from keras.layers import concatenate\n",
    "\n",
    "\n",
    "main_input = Input((28, 28, 1), name='image')\n",
    "x = Conv2D(64, (12, 12),name=\"conv12\",activation='relu')(main_input)\n",
    "x = AvgPool2D(pool_size=(4, 4))(x)\n",
    "x = Conv2D(32, (3, 3),name=\"conv3\",activation='relu')(x)\n",
    "x = MaxPool2D(pool_size=(2, 2))(x)\n",
    "#x = Activation('relu')(x)\n",
    "x = Flatten()(x)\n",
    "x = Dense(128,activation='relu')(x)\n",
    "main_output = Dense(10,activation='softmax')(x)\n",
    "model = Model(inputs=main_input, outputs=main_output)\n",
    "\n",
    "model.compile(loss='categorical_crossentropy',\n",
    "              optimizer='adam',\n",
    "              metrics=['accuracy'])\n",
    "model.summary()"
   ]
  },
  {
   "cell_type": "code",
   "execution_count": 14,
   "metadata": {},
   "outputs": [
    {
     "name": "stdout",
     "output_type": "stream",
     "text": [
      "Train on 33600 samples, validate on 8400 samples\n",
      "Epoch 1/50\n",
      "33600/33600 [==============================] - 23s - loss: 0.3513 - acc: 0.9107 - val_loss: 0.2126 - val_acc: 0.9413\n",
      "Epoch 2/50\n",
      "33600/33600 [==============================] - 23s - loss: 0.1192 - acc: 0.9654 - val_loss: 0.0994 - val_acc: 0.9712\n",
      "Epoch 3/50\n",
      "33600/33600 [==============================] - 23s - loss: 0.0913 - acc: 0.9726 - val_loss: 0.1428 - val_acc: 0.9593\n",
      "Epoch 4/50\n",
      "33600/33600 [==============================] - 23s - loss: 0.0757 - acc: 0.9776 - val_loss: 0.0824 - val_acc: 0.9777\n",
      "Epoch 5/50\n",
      "33600/33600 [==============================] - 23s - loss: 0.0651 - acc: 0.9804 - val_loss: 0.0803 - val_acc: 0.9777\n",
      "Epoch 6/50\n",
      "33600/33600 [==============================] - 23s - loss: 0.0664 - acc: 0.9806 - val_loss: 0.0674 - val_acc: 0.9820\n",
      "Epoch 7/50\n",
      "33600/33600 [==============================] - 23s - loss: 0.0550 - acc: 0.9842 - val_loss: 0.0825 - val_acc: 0.9775\n",
      "Epoch 8/50\n",
      "33600/33600 [==============================] - 23s - loss: 0.0497 - acc: 0.9858 - val_loss: 0.0950 - val_acc: 0.9780\n",
      "Epoch 9/50\n",
      "33600/33600 [==============================] - 23s - loss: 0.0452 - acc: 0.9871 - val_loss: 0.0704 - val_acc: 0.9851\n",
      "Epoch 10/50\n",
      "33600/33600 [==============================] - 23s - loss: 0.0422 - acc: 0.9871 - val_loss: 0.0892 - val_acc: 0.9812\n",
      "Epoch 11/50\n",
      "33600/33600 [==============================] - 23s - loss: 0.0378 - acc: 0.9891 - val_loss: 0.0982 - val_acc: 0.9796\n",
      "Epoch 12/50\n",
      "33600/33600 [==============================] - 23s - loss: 0.0405 - acc: 0.9888 - val_loss: 0.0750 - val_acc: 0.9833\n",
      "Epoch 13/50\n",
      "33600/33600 [==============================] - 23s - loss: 0.0309 - acc: 0.9905 - val_loss: 0.0801 - val_acc: 0.9843\n",
      "Epoch 14/50\n",
      "33600/33600 [==============================] - 23s - loss: 0.0373 - acc: 0.9900 - val_loss: 0.1119 - val_acc: 0.9765\n",
      "Epoch 15/50\n",
      "33600/33600 [==============================] - 24s - loss: 0.0376 - acc: 0.9890 - val_loss: 0.0882 - val_acc: 0.9824\n",
      "Epoch 16/50\n",
      "33600/33600 [==============================] - 24s - loss: 0.0272 - acc: 0.9927 - val_loss: 0.0712 - val_acc: 0.9871\n",
      "Epoch 17/50\n",
      "33600/33600 [==============================] - 23s - loss: 0.0310 - acc: 0.9914 - val_loss: 0.0843 - val_acc: 0.9826\n",
      "Epoch 18/50\n",
      "33600/33600 [==============================] - 24s - loss: 0.0265 - acc: 0.9925 - val_loss: 0.0890 - val_acc: 0.9829\n",
      "Epoch 19/50\n",
      "33600/33600 [==============================] - 24s - loss: 0.0323 - acc: 0.9913 - val_loss: 0.0710 - val_acc: 0.9850\n",
      "Epoch 20/50\n",
      "33600/33600 [==============================] - 24s - loss: 0.0201 - acc: 0.9940 - val_loss: 0.0823 - val_acc: 0.9844\n",
      "Epoch 21/50\n",
      "33600/33600 [==============================] - 24s - loss: 0.0311 - acc: 0.9919 - val_loss: 0.0853 - val_acc: 0.9843\n",
      "Epoch 22/50\n",
      "33600/33600 [==============================] - 24s - loss: 0.0314 - acc: 0.9916 - val_loss: 0.1085 - val_acc: 0.9826\n",
      "Epoch 23/50\n",
      "33600/33600 [==============================] - 24s - loss: 0.0277 - acc: 0.9930 - val_loss: 0.0866 - val_acc: 0.9850\n",
      "Epoch 24/50\n",
      "33600/33600 [==============================] - 24s - loss: 0.0198 - acc: 0.9943 - val_loss: 0.1009 - val_acc: 0.9823\n",
      "Epoch 25/50\n",
      "33600/33600 [==============================] - 24s - loss: 0.0241 - acc: 0.9935 - val_loss: 0.0966 - val_acc: 0.9844\n",
      "Epoch 26/50\n",
      "33600/33600 [==============================] - 24s - loss: 0.0221 - acc: 0.9944 - val_loss: 0.0857 - val_acc: 0.9846\n",
      "Epoch 27/50\n",
      "33600/33600 [==============================] - 24s - loss: 0.0236 - acc: 0.9947 - val_loss: 0.1009 - val_acc: 0.9814\n",
      "Epoch 28/50\n",
      "33600/33600 [==============================] - 24s - loss: 0.0259 - acc: 0.9937 - val_loss: 0.0948 - val_acc: 0.9854\n"
     ]
    },
    {
     "data": {
      "text/plain": [
       "<keras.callbacks.History at 0x7f2b460bc2e8>"
      ]
     },
     "execution_count": 14,
     "metadata": {},
     "output_type": "execute_result"
    }
   ],
   "source": [
    "model.fit(Xtrain, y_train_cat, batch_size=32,\n",
    "          epochs=50, verbose=1, validation_split=0.2,\n",
    "          callbacks=[EarlyStopping(monitor='loss', min_delta=0, patience=3)])\n"
   ]
  },
  {
   "cell_type": "code",
   "execution_count": 18,
   "metadata": {},
   "outputs": [
    {
     "name": "stdout",
     "output_type": "stream",
     "text": [
      "predicted   0   1   2  3   4   5   6   7   8   9  All\n",
      "original                                             \n",
      "0           0   0   3  0   1   3   2   0   1   2   12\n",
      "1           1   0   2  0   0   1   3   2   4   4   17\n",
      "2           3   2   0  2   2   0   2  11   1   0   23\n",
      "3           2   0  11  0   0  20   0   4   2   4   43\n",
      "4           0   2   0  0   0   0   1   7   4   6   20\n",
      "5           1   0   1  4   0   0   0   0   4   1   11\n",
      "6           3   0   0  0   0   4   0   0   3   0   10\n",
      "7           0   2   6  0   0   0   0   0   0   5   13\n",
      "8           4   3  10  0   0   6   3   2   0  24   52\n",
      "9           4   2   0  3  14  17   0   8   1   0   49\n",
      "All        18  11  33  9  17  51  11  34  20  46  250\n"
     ]
    }
   ],
   "source": [
    "cDF2 = mis_data(Xtrain,model,ytrain)"
   ]
  },
  {
   "cell_type": "code",
   "execution_count": null,
   "metadata": {},
   "outputs": [],
   "source": []
  },
  {
   "cell_type": "markdown",
   "metadata": {},
   "source": [
    "Model does pretty well. It's worth mentioning that the aim here should not be to get 100% accuracy (there are data that in my opinion are mislabelled and some are ambiguous). In the data 8 gets most often misclassified. But we may try to tune model to diminish most often misclassified ones"
   ]
  },
  {
   "cell_type": "markdown",
   "metadata": {},
   "source": [
    "Let's inspect a few examples"
   ]
  },
  {
   "cell_type": "markdown",
   "metadata": {},
   "source": [
    "First original 8, predicted 9"
   ]
  },
  {
   "cell_type": "code",
   "execution_count": 19,
   "metadata": {},
   "outputs": [
    {
     "data": {
      "text/plain": [
       "<matplotlib.image.AxesImage at 0x7f2b449cbd68>"
      ]
     },
     "execution_count": 19,
     "metadata": {},
     "output_type": "execute_result"
    },
    {
     "data": {
      "image/png": "[encoded data removed]",
      "text/plain": [
       "<matplotlib.figure.Figure at 0x7f2b44a15710>"
      ]
     },
     "metadata": {},
     "output_type": "display_data"
    }
   ],
   "source": [
    "Xmis=check_mis(8,9,Xtrainpic,cDF2)\n",
    "plt.imshow(negativeMask-Xmis[2], cmap='gray')"
   ]
  },
  {
   "cell_type": "code",
   "execution_count": 20,
   "metadata": {},
   "outputs": [
    {
     "data": {
      "text/plain": [
       "<matplotlib.image.AxesImage at 0x7f2b44954a58>"
      ]
     },
     "execution_count": 20,
     "metadata": {},
     "output_type": "execute_result"
    },
    {
     "data": {
      "image/png": "[encoded data removed]",
      "text/plain": [
       "<matplotlib.figure.Figure at 0x7f2b449e46d8>"
      ]
     },
     "metadata": {},
     "output_type": "display_data"
    }
   ],
   "source": [
    "plt.imshow(negativeMask-Xmis[12], cmap='gray')"
   ]
  },
  {
   "cell_type": "code",
   "execution_count": 39,
   "metadata": {},
   "outputs": [
    {
     "data": {
      "text/plain": [
       "<matplotlib.image.AxesImage at 0x7f2b0c6c2470>"
      ]
     },
     "execution_count": 39,
     "metadata": {},
     "output_type": "execute_result"
    },
    {
     "data": {
      "image/png": "[encoded data removed]",
      "text/plain": [
       "<matplotlib.figure.Figure at 0x7f2b0c770978>"
      ]
     },
     "metadata": {},
     "output_type": "display_data"
    }
   ],
   "source": [
    "plt.imshow(negativeMask-Xmis[18], cmap='gray')"
   ]
  },
  {
   "cell_type": "markdown",
   "metadata": {},
   "source": [
    "Most indeed seems to be 8's. But for example this one I'd rather say it's 9 (or even rather 2). Let's see 3 vs 5"
   ]
  },
  {
   "cell_type": "code",
   "execution_count": 41,
   "metadata": {},
   "outputs": [
    {
     "data": {
      "text/plain": [
       "<matplotlib.image.AxesImage at 0x7f2b0c61c6a0>"
      ]
     },
     "execution_count": 41,
     "metadata": {},
     "output_type": "execute_result"
    },
    {
     "data": {
      "image/png": "[encoded data removed]",
      "text/plain": [
       "<matplotlib.figure.Figure at 0x7f2b0c6482e8>"
      ]
     },
     "metadata": {},
     "output_type": "display_data"
    }
   ],
   "source": [
    "Xmis=check_mis(3,5,Xtrainpic,cDF2)\n",
    "plt.imshow(negativeMask-Xmis[2], cmap='gray')"
   ]
  },
  {
   "cell_type": "code",
   "execution_count": 46,
   "metadata": {},
   "outputs": [
    {
     "data": {
      "text/plain": [
       "<matplotlib.image.AxesImage at 0x7f2b0c457fd0>"
      ]
     },
     "execution_count": 46,
     "metadata": {},
     "output_type": "execute_result"
    },
    {
     "data": {
      "image/png": "[encoded data removed]",
      "text/plain": [
       "<matplotlib.figure.Figure at 0x7f2b0c483cc0>"
      ]
     },
     "metadata": {},
     "output_type": "display_data"
    }
   ],
   "source": [
    "Xmis=check_mis(3,5,Xtrainpic,cDF2)\n",
    "plt.imshow(negativeMask-Xmis[7], cmap='gray')"
   ]
  },
  {
   "cell_type": "code",
   "execution_count": 47,
   "metadata": {},
   "outputs": [
    {
     "data": {
      "text/plain": [
       "<matplotlib.image.AxesImage at 0x7f2b0c3c2668>"
      ]
     },
     "execution_count": 47,
     "metadata": {},
     "output_type": "execute_result"
    },
    {
     "data": {
      "image/png": "[encoded data removed]",
      "text/plain": [
       "<matplotlib.figure.Figure at 0x7f2b0c4683c8>"
      ]
     },
     "metadata": {},
     "output_type": "display_data"
    }
   ],
   "source": [
    "plt.imshow(negativeMask-Xmis[18], cmap='gray')"
   ]
  },
  {
   "cell_type": "markdown",
   "metadata": {},
   "source": [
    "Indeed some of those seem to be clearly misclassified, other are not that obvious"
   ]
  },
  {
   "cell_type": "code",
   "execution_count": 8,
   "metadata": {},
   "outputs": [
    {
     "name": "stdout",
     "output_type": "stream",
     "text": [
      "_________________________________________________________________\n",
      "Layer (type)                 Output Shape              Param #   \n",
      "=================================================================\n",
      "image (InputLayer)           (None, 28, 28, 1)         0         \n",
      "_________________________________________________________________\n",
      "conv2d_1 (Conv2D)            (None, 17, 21, 64)        6208      \n",
      "_________________________________________________________________\n",
      "max_pooling2d_1 (MaxPooling2 (None, 8, 10, 64)         0         \n",
      "_________________________________________________________________\n",
      "conv2d_2 (Conv2D)            (None, 6, 8, 64)          36928     \n",
      "_________________________________________________________________\n",
      "max_pooling2d_2 (MaxPooling2 (None, 3, 4, 64)          0         \n",
      "_________________________________________________________________\n",
      "flatten_1 (Flatten)          (None, 768)               0         \n",
      "_________________________________________________________________\n",
      "dense_1 (Dense)              (None, 128)               98432     \n",
      "_________________________________________________________________\n",
      "dense_2 (Dense)              (None, 128)               16512     \n",
      "_________________________________________________________________\n",
      "dense_3 (Dense)              (None, 10)                1290      \n",
      "=================================================================\n",
      "Total params: 159,370\n",
      "Trainable params: 159,370\n",
      "Non-trainable params: 0\n",
      "_________________________________________________________________\n"
     ]
    }
   ],
   "source": [
    "K.clear_session()\n",
    "from keras.models import Model\n",
    "from keras.layers import Input\n",
    "from keras.layers import concatenate\n",
    "\n",
    "\n",
    "main_input = Input((28, 28, 1), name='image')\n",
    "x = Conv2D(64, (12, 8),activation='relu')(main_input)\n",
    "#x = Conv2D(64, (6, 2),activation='relu')(x)\n",
    "x = MaxPool2D(pool_size=(2, 2))(x)\n",
    "x = Conv2D(64, (3, 3),activation='relu')(x)\n",
    "x = MaxPool2D(pool_size=(2, 2))(x)\n",
    "\n",
    "x = Flatten()(x)\n",
    "x = Dense(128,activation='relu')(x)\n",
    "x = Dense(128,activation='relu')(x)\n",
    "main_output = Dense(10,activation='softmax')(x)\n",
    "model = Model(inputs=main_input, outputs=main_output)\n",
    "\n",
    "model.compile(loss='categorical_crossentropy',\n",
    "              optimizer='adam',\n",
    "              metrics=['accuracy'])\n",
    "model.summary()"
   ]
  },
  {
   "cell_type": "code",
   "execution_count": 9,
   "metadata": {},
   "outputs": [
    {
     "name": "stdout",
     "output_type": "stream",
     "text": [
      "Train on 33600 samples, validate on 8400 samples\n",
      "Epoch 1/50\n",
      "33600/33600 [==============================] - 34s - loss: 0.6851 - acc: 0.9042 - val_loss: 0.1237 - val_acc: 0.9644\n",
      "Epoch 2/50\n",
      "33600/33600 [==============================] - 33s - loss: 0.1090 - acc: 0.9676 - val_loss: 0.0931 - val_acc: 0.9757\n",
      "Epoch 3/50\n",
      "33600/33600 [==============================] - 34s - loss: 0.0877 - acc: 0.9743 - val_loss: 0.0970 - val_acc: 0.9727\n",
      "Epoch 4/50\n",
      "33600/33600 [==============================] - 35s - loss: 0.0742 - acc: 0.9785 - val_loss: 0.0986 - val_acc: 0.9740\n",
      "Epoch 5/50\n",
      "33600/33600 [==============================] - 34s - loss: 0.0641 - acc: 0.9822 - val_loss: 0.0898 - val_acc: 0.9785\n",
      "Epoch 6/50\n",
      "33600/33600 [==============================] - 33s - loss: 0.0640 - acc: 0.9825 - val_loss: 0.0813 - val_acc: 0.9789\n",
      "Epoch 7/50\n",
      "33600/33600 [==============================] - 34s - loss: 0.0500 - acc: 0.9857 - val_loss: 0.1132 - val_acc: 0.9760\n",
      "Epoch 8/50\n",
      "33600/33600 [==============================] - 33s - loss: 0.0548 - acc: 0.9857 - val_loss: 0.0736 - val_acc: 0.9832\n",
      "Epoch 9/50\n",
      "33600/33600 [==============================] - 34s - loss: 0.0456 - acc: 0.9875 - val_loss: 0.0911 - val_acc: 0.9811\n",
      "Epoch 10/50\n",
      "33600/33600 [==============================] - 34s - loss: 0.0570 - acc: 0.9857 - val_loss: 0.0835 - val_acc: 0.9800\n",
      "Epoch 11/50\n",
      "33600/33600 [==============================] - 34s - loss: 0.0368 - acc: 0.9905 - val_loss: 0.0753 - val_acc: 0.9843\n",
      "Epoch 12/50\n",
      "33600/33600 [==============================] - 34s - loss: 0.0486 - acc: 0.9878 - val_loss: 0.0864 - val_acc: 0.9810\n",
      "Epoch 13/50\n",
      "33600/33600 [==============================] - 34s - loss: 0.0391 - acc: 0.9896 - val_loss: 0.0728 - val_acc: 0.9848\n",
      "Epoch 14/50\n",
      "33600/33600 [==============================] - 34s - loss: 0.0371 - acc: 0.9907 - val_loss: 0.1113 - val_acc: 0.9812\n",
      "Epoch 15/50\n",
      "33600/33600 [==============================] - 34s - loss: 0.0507 - acc: 0.9895 - val_loss: 0.0787 - val_acc: 0.9846\n",
      "Epoch 16/50\n",
      "33600/33600 [==============================] - 34s - loss: 0.0281 - acc: 0.9927 - val_loss: 0.0974 - val_acc: 0.9836\n",
      "Epoch 17/50\n",
      "33600/33600 [==============================] - 34s - loss: 0.0363 - acc: 0.9913 - val_loss: 0.1195 - val_acc: 0.9794\n",
      "Epoch 18/50\n",
      "33600/33600 [==============================] - 34s - loss: 0.0348 - acc: 0.9921 - val_loss: 0.0874 - val_acc: 0.9833\n",
      "Epoch 19/50\n",
      "33600/33600 [==============================] - 34s - loss: 0.0287 - acc: 0.9933 - val_loss: 0.1022 - val_acc: 0.9830\n",
      "Epoch 20/50\n",
      "33600/33600 [==============================] - 34s - loss: 0.0436 - acc: 0.9908 - val_loss: 0.1154 - val_acc: 0.9835\n",
      "Epoch 21/50\n",
      "33600/33600 [==============================] - 34s - loss: 0.0356 - acc: 0.9926 - val_loss: 0.1064 - val_acc: 0.9838\n",
      "Epoch 22/50\n",
      "33600/33600 [==============================] - 34s - loss: 0.0293 - acc: 0.9943 - val_loss: 0.1076 - val_acc: 0.9851\n",
      "Epoch 23/50\n",
      "33600/33600 [==============================] - 34s - loss: 0.0369 - acc: 0.9934 - val_loss: 0.1046 - val_acc: 0.9846\n",
      "Epoch 24/50\n",
      "33600/33600 [==============================] - 34s - loss: 0.0433 - acc: 0.9924 - val_loss: 0.1006 - val_acc: 0.9851\n",
      "Epoch 25/50\n",
      "33600/33600 [==============================] - 34s - loss: 0.0400 - acc: 0.9917 - val_loss: 0.1168 - val_acc: 0.9842\n",
      "Epoch 26/50\n",
      "33600/33600 [==============================] - 34s - loss: 0.0421 - acc: 0.9923 - val_loss: 0.1281 - val_acc: 0.9839\n"
     ]
    },
    {
     "data": {
      "text/plain": [
       "<keras.callbacks.History at 0x7fdcb1e66ba8>"
      ]
     },
     "execution_count": 9,
     "metadata": {},
     "output_type": "execute_result"
    }
   ],
   "source": [
    "model.fit(Xtrain, y_train_cat, batch_size=32,\n",
    "          epochs=50, verbose=1, validation_split=0.2,\n",
    "          callbacks=[EarlyStopping(monitor='acc', min_delta=0, patience=3)])"
   ]
  },
  {
   "cell_type": "code",
   "execution_count": 10,
   "metadata": {},
   "outputs": [
    {
     "name": "stdout",
     "output_type": "stream",
     "text": [
      "predicted   0  1   2   3   4   5   6   7   8    9  All\n",
      "original                                              \n",
      "0           0  0   1   0   2   1   4   0   1   10   19\n",
      "1           7  0   3   0   2   3   5  13   2   23   58\n",
      "2           7  1   0   7   0   3   3   3   5    1   30\n",
      "3           2  0   3   0   0   3   1   0   0    3   12\n",
      "4           0  1   0   0   0   0   3   4   1   37   46\n",
      "5           1  0   0   7   1   0   3   0   1    3   16\n",
      "6           6  0   0   0   1   2   0   0   0    3   12\n",
      "7           1  1  17   2   1   1   0   0   1   13   37\n",
      "8           1  4   0  11   2  29   6   1   0   63  117\n",
      "9           2  0   0   1   5   6   0   2   0    0   16\n",
      "All        27  7  24  28  14  48  25  23  11  156  363\n"
     ]
    }
   ],
   "source": [
    "cDF2 = mis_data(Xtrain,model,ytrain)"
   ]
  },
  {
   "cell_type": "code",
   "execution_count": 16,
   "metadata": {},
   "outputs": [],
   "source": [
    "Xtrain = np.pad(Xtrain, ((0,0),(2,2),(2,2),(0,0)), 'constant')\n",
    "Xtest = np.pad(Xtest, ((0,0),(2,2),(2,2),(0,0)), 'constant')"
   ]
  },
  {
   "cell_type": "code",
   "execution_count": 17,
   "metadata": {},
   "outputs": [
    {
     "data": {
      "text/plain": [
       "(42000, 32, 32, 1)"
      ]
     },
     "execution_count": 17,
     "metadata": {},
     "output_type": "execute_result"
    }
   ],
   "source": [
    "Xtrain.shape"
   ]
  },
  {
   "cell_type": "code",
   "execution_count": 31,
   "metadata": {},
   "outputs": [
    {
     "name": "stdout",
     "output_type": "stream",
     "text": [
      "_________________________________________________________________\n",
      "Layer (type)                 Output Shape              Param #   \n",
      "=================================================================\n",
      "conv2d_1 (Conv2D)            (None, 28, 28, 6)         156       \n",
      "_________________________________________________________________\n",
      "average_pooling2d_1 (Average (None, 14, 14, 6)         0         \n",
      "_________________________________________________________________\n",
      "conv2d_2 (Conv2D)            (None, 10, 10, 16)        2416      \n",
      "_________________________________________________________________\n",
      "average_pooling2d_2 (Average (None, 5, 5, 16)          0         \n",
      "_________________________________________________________________\n",
      "flatten_1 (Flatten)          (None, 400)               0         \n",
      "_________________________________________________________________\n",
      "dense_1 (Dense)              (None, 120)               48120     \n",
      "_________________________________________________________________\n",
      "dense_2 (Dense)              (None, 84)                10164     \n",
      "_________________________________________________________________\n",
      "dense_3 (Dense)              (None, 10)                850       \n",
      "=================================================================\n",
      "Total params: 61,706\n",
      "Trainable params: 61,706\n",
      "Non-trainable params: 0\n",
      "_________________________________________________________________\n"
     ]
    }
   ],
   "source": [
    "from keras.models import Sequential\n",
    "from keras.layers import MaxPooling2D,AveragePooling2D,Dense,Flatten,Conv2D\n",
    "K.clear_session()\n",
    "model = Sequential()\n",
    "\n",
    "model.add(Conv2D(filters=6, kernel_size=5, activation='relu', input_shape=(32,32,1)))\n",
    "model.add(AveragePooling2D())\n",
    "\n",
    "model.add(Conv2D(filters=16, kernel_size=5, activation='relu'))\n",
    "model.add(AveragePooling2D())\n",
    "\n",
    "model.add(Flatten())\n",
    "\n",
    "model.add(Dense(units=120, activation='relu'))\n",
    "\n",
    "model.add(Dense(units=84, activation='relu'))\n",
    "\n",
    "model.add(Dense(units=10, activation = 'softmax'))\n",
    "model.compile(loss='categorical_crossentropy',\n",
    "              optimizer='adam',\n",
    "              metrics=['accuracy'])\n",
    "model.summary()"
   ]
  },
  {
   "cell_type": "code",
   "execution_count": 32,
   "metadata": {},
   "outputs": [
    {
     "name": "stdout",
     "output_type": "stream",
     "text": [
      "Train on 33600 samples, validate on 8400 samples\n",
      "Epoch 1/50\n",
      "33600/33600 [==============================] - 15s - loss: 0.6654 - acc: 0.9033 - val_loss: 0.1078 - val_acc: 0.9673\n",
      "Epoch 2/50\n",
      "33600/33600 [==============================] - 15s - loss: 0.0794 - acc: 0.9763 - val_loss: 0.0864 - val_acc: 0.9727\n",
      "Epoch 3/50\n",
      "33600/33600 [==============================] - 15s - loss: 0.0535 - acc: 0.9833 - val_loss: 0.0641 - val_acc: 0.9802\n",
      "Epoch 4/50\n",
      "33600/33600 [==============================] - 15s - loss: 0.0401 - acc: 0.9877 - val_loss: 0.0642 - val_acc: 0.9820\n",
      "Epoch 5/50\n",
      "33600/33600 [==============================] - 15s - loss: 0.0376 - acc: 0.9880 - val_loss: 0.0693 - val_acc: 0.9814\n",
      "Epoch 6/50\n",
      "33600/33600 [==============================] - 16s - loss: 0.0284 - acc: 0.9909 - val_loss: 0.0629 - val_acc: 0.9821\n",
      "Epoch 7/50\n",
      "33600/33600 [==============================] - 16s - loss: 0.0275 - acc: 0.9911 - val_loss: 0.0789 - val_acc: 0.9786\n",
      "Epoch 8/50\n",
      "33600/33600 [==============================] - 17s - loss: 0.0230 - acc: 0.9921 - val_loss: 0.0787 - val_acc: 0.9798\n",
      "Epoch 9/50\n",
      "33600/33600 [==============================] - 15s - loss: 0.0222 - acc: 0.9928 - val_loss: 0.0585 - val_acc: 0.9846\n",
      "Epoch 10/50\n",
      "33600/33600 [==============================] - 16s - loss: 0.0198 - acc: 0.9939 - val_loss: 0.0501 - val_acc: 0.9871\n",
      "Epoch 11/50\n",
      "33600/33600 [==============================] - 16s - loss: 0.0167 - acc: 0.9944 - val_loss: 0.0748 - val_acc: 0.9836\n",
      "Epoch 12/50\n",
      "33600/33600 [==============================] - 20s - loss: 0.0198 - acc: 0.9937 - val_loss: 0.0829 - val_acc: 0.9837\n",
      "Epoch 13/50\n",
      "33600/33600 [==============================] - 17s - loss: 0.0191 - acc: 0.9937 - val_loss: 0.0679 - val_acc: 0.9837\n",
      "Epoch 14/50\n",
      "33600/33600 [==============================] - 19s - loss: 0.0147 - acc: 0.9951 - val_loss: 0.0607 - val_acc: 0.9869.9\n",
      "Epoch 15/50\n",
      "33600/33600 [==============================] - 17s - loss: 0.0125 - acc: 0.9960 - val_loss: 0.0712 - val_acc: 0.9851\n",
      "Epoch 16/50\n",
      "33600/33600 [==============================] - 16s - loss: 0.0160 - acc: 0.9950 - val_loss: 0.0816 - val_acc: 0.9826\n",
      "Epoch 17/50\n",
      "33600/33600 [==============================] - 16s - loss: 0.0157 - acc: 0.9950 - val_loss: 0.0615 - val_acc: 0.9868\n",
      "Epoch 18/50\n",
      "33600/33600 [==============================] - 16s - loss: 0.0125 - acc: 0.9961 - val_loss: 0.0599 - val_acc: 0.9858\n",
      "Epoch 19/50\n",
      "33600/33600 [==============================] - 18s - loss: 0.0141 - acc: 0.9958 - val_loss: 0.0620 - val_acc: 0.9867\n",
      "Epoch 20/50\n",
      "33600/33600 [==============================] - 17s - loss: 0.0095 - acc: 0.9974 - val_loss: 0.0619 - val_acc: 0.9877\n",
      "Epoch 21/50\n",
      "33600/33600 [==============================] - 16s - loss: 0.0139 - acc: 0.9962 - val_loss: 0.0694 - val_acc: 0.9848\n",
      "Epoch 22/50\n",
      "33600/33600 [==============================] - 17s - loss: 0.0065 - acc: 0.9980 - val_loss: 0.0880 - val_acc: 0.9850\n",
      "Epoch 23/50\n",
      "33600/33600 [==============================] - 18s - loss: 0.0107 - acc: 0.9969 - val_loss: 0.1031 - val_acc: 0.9790\n",
      "Epoch 24/50\n",
      "33600/33600 [==============================] - 17s - loss: 0.0120 - acc: 0.9965 - val_loss: 0.0745 - val_acc: 0.9861\n",
      "Epoch 25/50\n",
      "33600/33600 [==============================] - 17s - loss: 0.0097 - acc: 0.9969 - val_loss: 0.1061 - val_acc: 0.9845\n"
     ]
    },
    {
     "data": {
      "text/plain": [
       "<keras.callbacks.History at 0x7f355ca7dc50>"
      ]
     },
     "execution_count": 32,
     "metadata": {},
     "output_type": "execute_result"
    }
   ],
   "source": [
    "model.fit(Xtrain, y_train_cat, batch_size=64,\n",
    "          epochs=50, verbose=1, validation_split=0.2,\n",
    "          callbacks=[EarlyStopping(monitor='acc', min_delta=0, patience=2)])"
   ]
  },
  {
   "cell_type": "code",
   "execution_count": 28,
   "metadata": {},
   "outputs": [],
   "source": [
    "prep_subm(Xtest,model)"
   ]
  },
  {
   "cell_type": "code",
   "execution_count": 33,
   "metadata": {},
   "outputs": [
    {
     "name": "stdout",
     "output_type": "stream",
     "text": [
      "predicted  0   1   2   3   4   5   6   7   8   9  All\n",
      "original                                             \n",
      "0          0   2   9   1   0   1  28   0   2   1   44\n",
      "1          0   0   3   1   3   0   1   2   3   0   13\n",
      "2          1   2   0  13   0   1   1   3   6   1   28\n",
      "3          0   0   4   0   0  24   1   0   1   2   32\n",
      "4          0   1   0   0   0   0   5   1   2   4   13\n",
      "5          0   0   0   1   1   0  22   0   9   1   34\n",
      "6          2   2   0   0   2   0   0   0   1   0    7\n",
      "7          0   1  10   7   1   0   0   0   0   7   26\n",
      "8          1   6  13   3   0   2   7   0   0   3   35\n",
      "9          1   0   0   2  13   9   1   6   4   0   36\n",
      "All        5  14  39  28  20  37  66  12  28  19  268\n"
     ]
    }
   ],
   "source": [
    "cDF2 = mis_data(Xtrain,model,ytrain)"
   ]
  },
  {
   "cell_type": "markdown",
   "metadata": {},
   "source": [
    "Classic model (even though quite simple) does better than my models. "
   ]
  },
  {
   "cell_type": "code",
   "execution_count": 26,
   "metadata": {},
   "outputs": [
    {
     "data": {
      "text/plain": [
       "<matplotlib.image.AxesImage at 0x7f356c094fd0>"
      ]
     },
     "execution_count": 26,
     "metadata": {},
     "output_type": "execute_result"
    },
    {
     "data": {
      "image/png": "[encoded data removed]",
      "text/plain": [
       "<matplotlib.figure.Figure at 0x7f359c5d8cf8>"
      ]
     },
     "metadata": {},
     "output_type": "display_data"
    }
   ],
   "source": [
    "Xmis=check_mis(4,9,Xtrainpic,cDF2)\n",
    "plt.imshow(negativeMask-Xmis[0], cmap='gray')"
   ]
  }
 ],
 "metadata": {
  "kernelspec": {
   "display_name": "Python 3",
   "language": "python",
   "name": "python3"
  },
  "language_info": {
   "codemirror_mode": {
    "name": "ipython",
    "version": 3
   },
   "file_extension": ".py",
   "mimetype": "text/x-python",
   "name": "python",
   "nbconvert_exporter": "python",
   "pygments_lexer": "ipython3",
   "version": "3.5.5"
  }
 },
 "nbformat": 4,
 "nbformat_minor": 2
}
